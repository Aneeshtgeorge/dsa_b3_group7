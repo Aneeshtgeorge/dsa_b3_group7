{
 "cells": [
  {
   "cell_type": "markdown",
   "metadata": {},
   "source": [
    "## Data Collection"
   ]
  },
  {
   "cell_type": "markdown",
   "metadata": {},
   "source": [
    "### About Dataset\n",
    "\n",
    "This dataset has data from 2014-2016 data for different commodities purchased across the state of Maharashtra.\n",
    "\n",
    "<h6>Columns</h6>\n",
    "<ol>\n",
    "    <li><b>APMC</b> : Agricultural Produce Marketing Committee. It is a categorical variable. Places of different APMC are in it.</li><br>\n",
    "    <li><b>Commodity</b> : Names of commodities grown. Categorical.</li><br>\n",
    "    <li><b>Year</b> : Year of collection of the commodity at APMC.</li><br>\n",
    "    <li><b>Month</b> : Month of collection.</li><br>\n",
    "    <li><b>arrivals_in_qtl</b> : Quantity if commodity collected in quintals.</li><br>\n",
    "    <li><b>min_price</b> : Minimum price for the commodity.</li><br>\n",
    "    <li><b>max_price</b> : Maximum price for the commodity.</li><br>\n",
    "    <li><b>modal_price</b> : Target variable. Price given to farmers.</li><br>\n",
    "    <li><b>date</b> : Date of collection.</li><br>\n",
    "    <li><b>district_name</b> : Name of the district of APMC.</li><br>\n",
    "    <li><b>state_name</b> : Name of state. Considering only for Maharashtra, so all values are Maharashtra.</li><br>\n",
    "</ol>       "
   ]
  },
  {
   "cell_type": "code",
   "execution_count": 1,
   "metadata": {},
   "outputs": [],
   "source": [
    "## Importing essential libraries\n",
    "import pandas as pd\n",
    "import numpy as np\n",
    "import seaborn as sns\n",
    "import matplotlib.pyplot as plt"
   ]
  },
  {
   "cell_type": "code",
   "execution_count": 2,
   "metadata": {},
   "outputs": [],
   "source": [
    "## Loading the dataset\n",
    "df1=pd.read_csv('Monthly_data_cmo.csv')"
   ]
  },
  {
   "cell_type": "code",
   "execution_count": 3,
   "metadata": {},
   "outputs": [
    {
     "data": {
      "text/html": [
       "<div>\n",
       "<style scoped>\n",
       "    .dataframe tbody tr th:only-of-type {\n",
       "        vertical-align: middle;\n",
       "    }\n",
       "\n",
       "    .dataframe tbody tr th {\n",
       "        vertical-align: top;\n",
       "    }\n",
       "\n",
       "    .dataframe thead th {\n",
       "        text-align: right;\n",
       "    }\n",
       "</style>\n",
       "<table border=\"1\" class=\"dataframe\">\n",
       "  <thead>\n",
       "    <tr style=\"text-align: right;\">\n",
       "      <th></th>\n",
       "      <th>APMC</th>\n",
       "      <th>Commodity</th>\n",
       "      <th>Year</th>\n",
       "      <th>Month</th>\n",
       "      <th>arrivals_in_qtl</th>\n",
       "      <th>min_price</th>\n",
       "      <th>max_price</th>\n",
       "      <th>modal_price</th>\n",
       "      <th>date</th>\n",
       "      <th>district_name</th>\n",
       "      <th>state_name</th>\n",
       "    </tr>\n",
       "  </thead>\n",
       "  <tbody>\n",
       "    <tr>\n",
       "      <th>0</th>\n",
       "      <td>Ahmednagar</td>\n",
       "      <td>Bajri</td>\n",
       "      <td>2015</td>\n",
       "      <td>April</td>\n",
       "      <td>79</td>\n",
       "      <td>1406</td>\n",
       "      <td>1538</td>\n",
       "      <td>1463</td>\n",
       "      <td>2015-04</td>\n",
       "      <td>Ahmadnagar</td>\n",
       "      <td>Maharashtra</td>\n",
       "    </tr>\n",
       "    <tr>\n",
       "      <th>1</th>\n",
       "      <td>Ahmednagar</td>\n",
       "      <td>Bajri</td>\n",
       "      <td>2016</td>\n",
       "      <td>April</td>\n",
       "      <td>106</td>\n",
       "      <td>1788</td>\n",
       "      <td>1925</td>\n",
       "      <td>1875</td>\n",
       "      <td>2016-04</td>\n",
       "      <td>Ahmadnagar</td>\n",
       "      <td>Maharashtra</td>\n",
       "    </tr>\n",
       "    <tr>\n",
       "      <th>2</th>\n",
       "      <td>Ahmednagar</td>\n",
       "      <td>Wheat(Husked)</td>\n",
       "      <td>2015</td>\n",
       "      <td>April</td>\n",
       "      <td>1253</td>\n",
       "      <td>1572</td>\n",
       "      <td>1890</td>\n",
       "      <td>1731</td>\n",
       "      <td>2015-04</td>\n",
       "      <td>Ahmadnagar</td>\n",
       "      <td>Maharashtra</td>\n",
       "    </tr>\n",
       "    <tr>\n",
       "      <th>3</th>\n",
       "      <td>Ahmednagar</td>\n",
       "      <td>Wheat(Husked)</td>\n",
       "      <td>2016</td>\n",
       "      <td>April</td>\n",
       "      <td>387</td>\n",
       "      <td>1750</td>\n",
       "      <td>2220</td>\n",
       "      <td>1999</td>\n",
       "      <td>2016-04</td>\n",
       "      <td>Ahmadnagar</td>\n",
       "      <td>Maharashtra</td>\n",
       "    </tr>\n",
       "    <tr>\n",
       "      <th>4</th>\n",
       "      <td>Ahmednagar</td>\n",
       "      <td>Sorgum(Jawar)</td>\n",
       "      <td>2015</td>\n",
       "      <td>April</td>\n",
       "      <td>3825</td>\n",
       "      <td>1600</td>\n",
       "      <td>2200</td>\n",
       "      <td>1900</td>\n",
       "      <td>2015-04</td>\n",
       "      <td>Ahmadnagar</td>\n",
       "      <td>Maharashtra</td>\n",
       "    </tr>\n",
       "  </tbody>\n",
       "</table>\n",
       "</div>"
      ],
      "text/plain": [
       "         APMC      Commodity  Year  Month  arrivals_in_qtl  min_price  \\\n",
       "0  Ahmednagar          Bajri  2015  April               79       1406   \n",
       "1  Ahmednagar          Bajri  2016  April              106       1788   \n",
       "2  Ahmednagar  Wheat(Husked)  2015  April             1253       1572   \n",
       "3  Ahmednagar  Wheat(Husked)  2016  April              387       1750   \n",
       "4  Ahmednagar  Sorgum(Jawar)  2015  April             3825       1600   \n",
       "\n",
       "   max_price  modal_price     date district_name   state_name  \n",
       "0       1538         1463  2015-04    Ahmadnagar  Maharashtra  \n",
       "1       1925         1875  2016-04    Ahmadnagar  Maharashtra  \n",
       "2       1890         1731  2015-04    Ahmadnagar  Maharashtra  \n",
       "3       2220         1999  2016-04    Ahmadnagar  Maharashtra  \n",
       "4       2200         1900  2015-04    Ahmadnagar  Maharashtra  "
      ]
     },
     "execution_count": 3,
     "metadata": {},
     "output_type": "execute_result"
    }
   ],
   "source": [
    "## First 5 rows\n",
    "df1.head()"
   ]
  },
  {
   "cell_type": "code",
   "execution_count": 4,
   "metadata": {},
   "outputs": [
    {
     "data": {
      "text/plain": [
       "(62429, 11)"
      ]
     },
     "execution_count": 4,
     "metadata": {},
     "output_type": "execute_result"
    }
   ],
   "source": [
    "## Check dimensions\n",
    "df1.shape"
   ]
  },
  {
   "cell_type": "markdown",
   "metadata": {},
   "source": [
    "##### There are total 62429 rows and 11 columns."
   ]
  },
  {
   "cell_type": "markdown",
   "metadata": {},
   "source": [
    "## Exploratory data analysis."
   ]
  },
  {
   "cell_type": "code",
   "execution_count": 5,
   "metadata": {},
   "outputs": [
    {
     "data": {
      "text/html": [
       "<div>\n",
       "<style scoped>\n",
       "    .dataframe tbody tr th:only-of-type {\n",
       "        vertical-align: middle;\n",
       "    }\n",
       "\n",
       "    .dataframe tbody tr th {\n",
       "        vertical-align: top;\n",
       "    }\n",
       "\n",
       "    .dataframe thead th {\n",
       "        text-align: right;\n",
       "    }\n",
       "</style>\n",
       "<table border=\"1\" class=\"dataframe\">\n",
       "  <thead>\n",
       "    <tr style=\"text-align: right;\">\n",
       "      <th></th>\n",
       "      <th>Year</th>\n",
       "      <th>arrivals_in_qtl</th>\n",
       "      <th>min_price</th>\n",
       "      <th>max_price</th>\n",
       "      <th>modal_price</th>\n",
       "    </tr>\n",
       "  </thead>\n",
       "  <tbody>\n",
       "    <tr>\n",
       "      <th>count</th>\n",
       "      <td>62429.000000</td>\n",
       "      <td>6.242900e+04</td>\n",
       "      <td>6.242900e+04</td>\n",
       "      <td>6.242900e+04</td>\n",
       "      <td>62429.000000</td>\n",
       "    </tr>\n",
       "    <tr>\n",
       "      <th>mean</th>\n",
       "      <td>2015.337503</td>\n",
       "      <td>6.043088e+03</td>\n",
       "      <td>2.945228e+03</td>\n",
       "      <td>3.688814e+03</td>\n",
       "      <td>3296.003989</td>\n",
       "    </tr>\n",
       "    <tr>\n",
       "      <th>std</th>\n",
       "      <td>0.690451</td>\n",
       "      <td>3.470331e+04</td>\n",
       "      <td>1.318396e+04</td>\n",
       "      <td>7.662962e+03</td>\n",
       "      <td>3607.792534</td>\n",
       "    </tr>\n",
       "    <tr>\n",
       "      <th>min</th>\n",
       "      <td>2014.000000</td>\n",
       "      <td>1.000000e+00</td>\n",
       "      <td>0.000000e+00</td>\n",
       "      <td>0.000000e+00</td>\n",
       "      <td>0.000000</td>\n",
       "    </tr>\n",
       "    <tr>\n",
       "      <th>25%</th>\n",
       "      <td>2015.000000</td>\n",
       "      <td>3.800000e+01</td>\n",
       "      <td>1.250000e+03</td>\n",
       "      <td>1.600000e+03</td>\n",
       "      <td>1450.000000</td>\n",
       "    </tr>\n",
       "    <tr>\n",
       "      <th>50%</th>\n",
       "      <td>2015.000000</td>\n",
       "      <td>2.110000e+02</td>\n",
       "      <td>1.976000e+03</td>\n",
       "      <td>2.797000e+03</td>\n",
       "      <td>2425.000000</td>\n",
       "    </tr>\n",
       "    <tr>\n",
       "      <th>75%</th>\n",
       "      <td>2016.000000</td>\n",
       "      <td>1.364000e+03</td>\n",
       "      <td>3.900000e+03</td>\n",
       "      <td>4.647000e+03</td>\n",
       "      <td>4257.000000</td>\n",
       "    </tr>\n",
       "    <tr>\n",
       "      <th>max</th>\n",
       "      <td>2016.000000</td>\n",
       "      <td>1.450254e+06</td>\n",
       "      <td>3.153038e+06</td>\n",
       "      <td>1.600090e+06</td>\n",
       "      <td>142344.000000</td>\n",
       "    </tr>\n",
       "  </tbody>\n",
       "</table>\n",
       "</div>"
      ],
      "text/plain": [
       "               Year  arrivals_in_qtl     min_price     max_price  \\\n",
       "count  62429.000000     6.242900e+04  6.242900e+04  6.242900e+04   \n",
       "mean    2015.337503     6.043088e+03  2.945228e+03  3.688814e+03   \n",
       "std        0.690451     3.470331e+04  1.318396e+04  7.662962e+03   \n",
       "min     2014.000000     1.000000e+00  0.000000e+00  0.000000e+00   \n",
       "25%     2015.000000     3.800000e+01  1.250000e+03  1.600000e+03   \n",
       "50%     2015.000000     2.110000e+02  1.976000e+03  2.797000e+03   \n",
       "75%     2016.000000     1.364000e+03  3.900000e+03  4.647000e+03   \n",
       "max     2016.000000     1.450254e+06  3.153038e+06  1.600090e+06   \n",
       "\n",
       "         modal_price  \n",
       "count   62429.000000  \n",
       "mean     3296.003989  \n",
       "std      3607.792534  \n",
       "min         0.000000  \n",
       "25%      1450.000000  \n",
       "50%      2425.000000  \n",
       "75%      4257.000000  \n",
       "max    142344.000000  "
      ]
     },
     "execution_count": 5,
     "metadata": {},
     "output_type": "execute_result"
    }
   ],
   "source": [
    "df1.describe()"
   ]
  },
  {
   "cell_type": "code",
   "execution_count": 6,
   "metadata": {},
   "outputs": [
    {
     "name": "stdout",
     "output_type": "stream",
     "text": [
      "Column name : unique values\n",
      "APMC  :  349\n",
      "Commodity  :  352\n",
      "Year  :  3\n",
      "Month  :  12\n",
      "arrivals_in_qtl  :  11169\n",
      "min_price  :  8503\n",
      "max_price  :  9739\n",
      "modal_price  :  9327\n",
      "date  :  27\n",
      "district_name  :  33\n",
      "state_name  :  1\n"
     ]
    }
   ],
   "source": [
    "## Number of unique values in each columns\n",
    "print(\"Column name : unique values\")\n",
    "for i in df1.columns:\n",
    "    print(i,\" : \",df1[i].nunique())"
   ]
  },
  {
   "cell_type": "markdown",
   "metadata": {},
   "source": [
    "<i>The state column only has 1 unique value in it. So it will not help in modelling.</i>"
   ]
  },
  {
   "cell_type": "code",
   "execution_count": 7,
   "metadata": {},
   "outputs": [
    {
     "data": {
      "text/plain": [
       "2016    28971\n",
       "2015    25557\n",
       "2014     7901\n",
       "Name: Year, dtype: int64"
      ]
     },
     "execution_count": 7,
     "metadata": {},
     "output_type": "execute_result"
    }
   ],
   "source": [
    "## 3 categories in Year.\n",
    "df1['Year'].value_counts()"
   ]
  },
  {
   "cell_type": "markdown",
   "metadata": {},
   "source": [
    "<i>There are less data on year 2014.<i>"
   ]
  },
  {
   "cell_type": "code",
   "execution_count": 8,
   "metadata": {},
   "outputs": [
    {
     "data": {
      "text/html": [
       "<div>\n",
       "<style scoped>\n",
       "    .dataframe tbody tr th:only-of-type {\n",
       "        vertical-align: middle;\n",
       "    }\n",
       "\n",
       "    .dataframe tbody tr th {\n",
       "        vertical-align: top;\n",
       "    }\n",
       "\n",
       "    .dataframe thead th {\n",
       "        text-align: right;\n",
       "    }\n",
       "</style>\n",
       "<table border=\"1\" class=\"dataframe\">\n",
       "  <thead>\n",
       "    <tr style=\"text-align: right;\">\n",
       "      <th></th>\n",
       "      <th>arrivals_in_qtl</th>\n",
       "      <th>min_price</th>\n",
       "      <th>max_price</th>\n",
       "      <th>modal_price</th>\n",
       "    </tr>\n",
       "    <tr>\n",
       "      <th>Year</th>\n",
       "      <th></th>\n",
       "      <th></th>\n",
       "      <th></th>\n",
       "      <th></th>\n",
       "    </tr>\n",
       "  </thead>\n",
       "  <tbody>\n",
       "    <tr>\n",
       "      <th>2016</th>\n",
       "      <td>167763619</td>\n",
       "      <td>86826086</td>\n",
       "      <td>111944031</td>\n",
       "      <td>99608865</td>\n",
       "    </tr>\n",
       "    <tr>\n",
       "      <th>2015</th>\n",
       "      <td>159554268</td>\n",
       "      <td>76236512</td>\n",
       "      <td>91808885</td>\n",
       "      <td>82570880</td>\n",
       "    </tr>\n",
       "    <tr>\n",
       "      <th>2014</th>\n",
       "      <td>49946074</td>\n",
       "      <td>20805015</td>\n",
       "      <td>26536030</td>\n",
       "      <td>23586488</td>\n",
       "    </tr>\n",
       "  </tbody>\n",
       "</table>\n",
       "</div>"
      ],
      "text/plain": [
       "      arrivals_in_qtl  min_price  max_price  modal_price\n",
       "Year                                                    \n",
       "2016        167763619   86826086  111944031     99608865\n",
       "2015        159554268   76236512   91808885     82570880\n",
       "2014         49946074   20805015   26536030     23586488"
      ]
     },
     "execution_count": 8,
     "metadata": {},
     "output_type": "execute_result"
    }
   ],
   "source": [
    "## Which year is highest in terms of modal_price.\n",
    "df1[['arrivals_in_qtl','min_price','max_price','modal_price']].groupby(df1[\"Year\"]).sum().sort_values(by=\"modal_price\",ascending=False)"
   ]
  },
  {
   "cell_type": "markdown",
   "metadata": {},
   "source": [
    "<i>The count of 2015 and 2016 were almost equal, so on compairing on both 2016 has highest modal_price.</i>"
   ]
  },
  {
   "cell_type": "code",
   "execution_count": 9,
   "metadata": {},
   "outputs": [
    {
     "data": {
      "text/plain": [
       "district_name\n",
       "Pune          17710875\n",
       "Nagpur        12636741\n",
       "Ahmadnagar    12242695\n",
       "Mumbai        12002941\n",
       "Solapur       11567353\n",
       "Buldhana      10504472\n",
       "Nasik         10167567\n",
       "Amaravathi     9397075\n",
       "Jalgaon        7849484\n",
       "Satara         7343544\n",
       "Name: modal_price, dtype: int64"
      ]
     },
     "execution_count": 9,
     "metadata": {},
     "output_type": "execute_result"
    }
   ],
   "source": [
    "## Top 10 districts in terms of model_price\n",
    "df1['modal_price'].groupby(df1['district_name']).sum().sort_values(ascending=False).head(10)"
   ]
  },
  {
   "cell_type": "code",
   "execution_count": 10,
   "metadata": {},
   "outputs": [
    {
     "data": {
      "text/plain": [
       "Month\n",
       "October      23335203\n",
       "November     22729212\n",
       "September    21257429\n",
       "June         17793744\n",
       "January      16146410\n",
       "May          15763734\n",
       "December     15663199\n",
       "July         15181741\n",
       "August       14756135\n",
       "April        14578057\n",
       "February     14442010\n",
       "March        14119359\n",
       "Name: modal_price, dtype: int64"
      ]
     },
     "execution_count": 10,
     "metadata": {},
     "output_type": "execute_result"
    }
   ],
   "source": [
    "## Highest modal_price month_wise\n",
    "df1['modal_price'].groupby(df1['Month']).sum().sort_values(ascending=False).head(12)"
   ]
  },
  {
   "cell_type": "code",
   "execution_count": 11,
   "metadata": {},
   "outputs": [],
   "source": [
    "## Creating a copy\n",
    "df5=df1.copy()"
   ]
  },
  {
   "cell_type": "code",
   "execution_count": 12,
   "metadata": {},
   "outputs": [],
   "source": [
    "## Creating a dictionary of months\n",
    "mon={'January':1,'February':2,'March':3,'April':4,'May':5,'June':6,'July':7,'August':8,'September':9,'October':10,'November':11,'December':12}"
   ]
  },
  {
   "cell_type": "code",
   "execution_count": 13,
   "metadata": {},
   "outputs": [],
   "source": [
    "## Mapping Month column with mon dictionary\n",
    "df5['Month'] = df5['Month'].map(mon)"
   ]
  },
  {
   "cell_type": "code",
   "execution_count": 14,
   "metadata": {
    "scrolled": true
   },
   "outputs": [
    {
     "data": {
      "text/html": [
       "<div>\n",
       "<style scoped>\n",
       "    .dataframe tbody tr th:only-of-type {\n",
       "        vertical-align: middle;\n",
       "    }\n",
       "\n",
       "    .dataframe tbody tr th {\n",
       "        vertical-align: top;\n",
       "    }\n",
       "\n",
       "    .dataframe thead th {\n",
       "        text-align: right;\n",
       "    }\n",
       "</style>\n",
       "<table border=\"1\" class=\"dataframe\">\n",
       "  <thead>\n",
       "    <tr style=\"text-align: right;\">\n",
       "      <th></th>\n",
       "      <th>APMC</th>\n",
       "      <th>Commodity</th>\n",
       "      <th>Year</th>\n",
       "      <th>Month</th>\n",
       "      <th>arrivals_in_qtl</th>\n",
       "      <th>min_price</th>\n",
       "      <th>max_price</th>\n",
       "      <th>modal_price</th>\n",
       "      <th>date</th>\n",
       "      <th>district_name</th>\n",
       "      <th>state_name</th>\n",
       "    </tr>\n",
       "  </thead>\n",
       "  <tbody>\n",
       "    <tr>\n",
       "      <th>0</th>\n",
       "      <td>Ahmednagar</td>\n",
       "      <td>Bajri</td>\n",
       "      <td>2015</td>\n",
       "      <td>4</td>\n",
       "      <td>79</td>\n",
       "      <td>1406</td>\n",
       "      <td>1538</td>\n",
       "      <td>1463</td>\n",
       "      <td>2015-04</td>\n",
       "      <td>Ahmadnagar</td>\n",
       "      <td>Maharashtra</td>\n",
       "    </tr>\n",
       "    <tr>\n",
       "      <th>1</th>\n",
       "      <td>Ahmednagar</td>\n",
       "      <td>Bajri</td>\n",
       "      <td>2016</td>\n",
       "      <td>4</td>\n",
       "      <td>106</td>\n",
       "      <td>1788</td>\n",
       "      <td>1925</td>\n",
       "      <td>1875</td>\n",
       "      <td>2016-04</td>\n",
       "      <td>Ahmadnagar</td>\n",
       "      <td>Maharashtra</td>\n",
       "    </tr>\n",
       "    <tr>\n",
       "      <th>2</th>\n",
       "      <td>Ahmednagar</td>\n",
       "      <td>Wheat(Husked)</td>\n",
       "      <td>2015</td>\n",
       "      <td>4</td>\n",
       "      <td>1253</td>\n",
       "      <td>1572</td>\n",
       "      <td>1890</td>\n",
       "      <td>1731</td>\n",
       "      <td>2015-04</td>\n",
       "      <td>Ahmadnagar</td>\n",
       "      <td>Maharashtra</td>\n",
       "    </tr>\n",
       "    <tr>\n",
       "      <th>3</th>\n",
       "      <td>Ahmednagar</td>\n",
       "      <td>Wheat(Husked)</td>\n",
       "      <td>2016</td>\n",
       "      <td>4</td>\n",
       "      <td>387</td>\n",
       "      <td>1750</td>\n",
       "      <td>2220</td>\n",
       "      <td>1999</td>\n",
       "      <td>2016-04</td>\n",
       "      <td>Ahmadnagar</td>\n",
       "      <td>Maharashtra</td>\n",
       "    </tr>\n",
       "    <tr>\n",
       "      <th>4</th>\n",
       "      <td>Ahmednagar</td>\n",
       "      <td>Sorgum(Jawar)</td>\n",
       "      <td>2015</td>\n",
       "      <td>4</td>\n",
       "      <td>3825</td>\n",
       "      <td>1600</td>\n",
       "      <td>2200</td>\n",
       "      <td>1900</td>\n",
       "      <td>2015-04</td>\n",
       "      <td>Ahmadnagar</td>\n",
       "      <td>Maharashtra</td>\n",
       "    </tr>\n",
       "  </tbody>\n",
       "</table>\n",
       "</div>"
      ],
      "text/plain": [
       "         APMC      Commodity  Year  Month  arrivals_in_qtl  min_price  \\\n",
       "0  Ahmednagar          Bajri  2015      4               79       1406   \n",
       "1  Ahmednagar          Bajri  2016      4              106       1788   \n",
       "2  Ahmednagar  Wheat(Husked)  2015      4             1253       1572   \n",
       "3  Ahmednagar  Wheat(Husked)  2016      4              387       1750   \n",
       "4  Ahmednagar  Sorgum(Jawar)  2015      4             3825       1600   \n",
       "\n",
       "   max_price  modal_price     date district_name   state_name  \n",
       "0       1538         1463  2015-04    Ahmadnagar  Maharashtra  \n",
       "1       1925         1875  2016-04    Ahmadnagar  Maharashtra  \n",
       "2       1890         1731  2015-04    Ahmadnagar  Maharashtra  \n",
       "3       2220         1999  2016-04    Ahmadnagar  Maharashtra  \n",
       "4       2200         1900  2015-04    Ahmadnagar  Maharashtra  "
      ]
     },
     "execution_count": 14,
     "metadata": {},
     "output_type": "execute_result"
    }
   ],
   "source": [
    "## Output\n",
    "df5.head()"
   ]
  },
  {
   "cell_type": "code",
   "execution_count": 15,
   "metadata": {},
   "outputs": [],
   "source": [
    "df7=df5['Commodity'].groupby(df5['district_name']).count().reset_index(name='count').sort_values(by=['count'],ascending=False)"
   ]
  },
  {
   "cell_type": "code",
   "execution_count": 16,
   "metadata": {},
   "outputs": [
    {
     "data": {
      "image/png": "[encoded data removed]",
      "text/plain": [
       "<Figure size 1080x576 with 1 Axes>"
      ]
     },
     "metadata": {
      "needs_background": "light"
     },
     "output_type": "display_data"
    }
   ],
   "source": [
    "plt.figure(figsize=(15,8))\n",
    "plt.title(\"District and number of commodites cultivated\",fontsize=13,pad=10)\n",
    "ax=sns.barplot(x=\"district_name\", y=\"count\", data=df7,palette=\"Blues_d\")\n",
    "plt.xticks(rotation=90)\n",
    "plt.xlabel(\"District Name\",fontsize=13)\n",
    "plt.ylabel(\"Count\",fontsize=13)\n",
    "\n",
    "patch_h = []    \n",
    "for patch in ax.patches:\n",
    "    reading = patch.get_height()\n",
    "    patch_h.append(reading)\n",
    "# patch_h contains the heights of all the patches now\n",
    "\n",
    "idx_tallest = np.argmax(patch_h)   \n",
    "# np.argmax return the index of largest value of the list\n",
    "\n",
    "ax.patches[idx_tallest].set_facecolor('#a834a8')  "
   ]
  },
  {
   "cell_type": "markdown",
   "metadata": {},
   "source": [
    "##### From graph : <br>\n",
    "<ol>\n",
    "    <li><i>Pune has higher cultivation than other districts in Maharashtra.</i></li>\n",
    "    <li><i>Almost 28 districts have wide range of commodities cultivated or have more cultivated areas.</i></li>\n",
    "</ol>"
   ]
  },
  {
   "cell_type": "code",
   "execution_count": 17,
   "metadata": {},
   "outputs": [],
   "source": [
    "df6=df5['Commodity'].groupby(df5['Commodity']).count().reset_index(name=\"count\").sort_values(by=['count'],ascending=False).head(30)"
   ]
  },
  {
   "cell_type": "code",
   "execution_count": 18,
   "metadata": {},
   "outputs": [
    {
     "data": {
      "image/png": "[encoded data removed]",
      "text/plain": [
       "<Figure size 1080x576 with 1 Axes>"
      ]
     },
     "metadata": {
      "needs_background": "light"
     },
     "output_type": "display_data"
    }
   ],
   "source": [
    "## Top 30 commodity production\n",
    "plt.figure(figsize=(15,8))\n",
    "ax2=sns.barplot(x=\"Commodity\", y=\"count\", data=df6,palette=\"Greens_d\")\n",
    "plt.xticks(rotation=90)\n",
    "\n",
    "patch_h = []    \n",
    "for patch in ax2.patches:\n",
    "    reading = patch.get_height()\n",
    "    patch_h.append(reading)\n",
    "# patch_h contains the heights of all the patches now\n",
    "\n",
    "idx_tallest = np.argmax(patch_h)   \n",
    "# np.argmax return the index of largest value of the list\n",
    "\n",
    "ax2.patches[idx_tallest].set_facecolor('#a834a8')  "
   ]
  },
  {
   "cell_type": "markdown",
   "metadata": {},
   "source": [
    "##### From graph : <br>\n",
    "<ol>\n",
    "    <li><i>Gram is the most popular commodity cultivated in Maharashtra.</i></li>\n",
    "    <li><i>Wheat is the major cereal cultivated in Maharashtra.</i></li>\n",
    "</ol>"
   ]
  },
  {
   "cell_type": "code",
   "execution_count": 19,
   "metadata": {},
   "outputs": [
    {
     "data": {
      "text/plain": [
       "Text(0, 0.5, 'Modal Price')"
      ]
     },
     "execution_count": 19,
     "metadata": {},
     "output_type": "execute_result"
    },
    {
     "data": {
      "image/png": "[encoded data removed]",
      "text/plain": [
       "<Figure size 1080x576 with 1 Axes>"
      ]
     },
     "metadata": {
      "needs_background": "light"
     },
     "output_type": "display_data"
    }
   ],
   "source": [
    "plt.figure(figsize=(15,8))\n",
    "plt.title(\"Month vs Model_price\", fontsize=14,pad=10)\n",
    "sns.lineplot(data=df5, x=df5[\"Month\"], y=df5[\"modal_price\"],hue='Year',palette=['#B3541E', '#9C0F48','#072227'])\n",
    "plt.xlabel(\"Month\",fontsize=13)\n",
    "plt.ylabel('Modal Price',fontsize=13)"
   ]
  },
  {
   "cell_type": "markdown",
   "metadata": {},
   "source": [
    "##### From graph : <br>\n",
    "<ol>\n",
    "    <li><i>The values of 2014 start from september.</i></li>\n",
    "    <li><i>The price given to farmers in 2015 increased after june but in 2016 it decreased after june.</i></li>\n",
    "    <li><i>The model_price is highest in june of 2016.</i></li>\n",
    "</ol>"
   ]
  },
  {
   "cell_type": "code",
   "execution_count": 20,
   "metadata": {},
   "outputs": [
    {
     "data": {
      "text/plain": [
       "Text(0, 0.5, 'In qunitals')"
      ]
     },
     "execution_count": 20,
     "metadata": {},
     "output_type": "execute_result"
    },
    {
     "data": {
      "image/png": "[encoded data removed]",
      "text/plain": [
       "<Figure size 1080x576 with 1 Axes>"
      ]
     },
     "metadata": {
      "needs_background": "light"
     },
     "output_type": "display_data"
    }
   ],
   "source": [
    "plt.figure(figsize=(15,8))\n",
    "plt.title(\"Month vs arrivals_in_qtl\",pad=10,fontsize=13)\n",
    "sns.lineplot(data=df5, x=df5[\"Month\"], y=df5[\"arrivals_in_qtl\"],hue='Year',palette=['#B3541E', '#9C0F48','#072227'])\n",
    "plt.xlabel(\"Month\",fontsize=13)\n",
    "plt.ylabel('In qunitals',fontsize=13)"
   ]
  },
  {
   "cell_type": "markdown",
   "metadata": {},
   "source": [
    "##### From graph : <br>\n",
    "<ol>\n",
    "    <li><i>The arrival of crops decreases towards the mid months and increases towards the end months.</i></li>\n",
    "    <li><i>The arrival of crops in 2016 is low, but the model_price was high.This indicates that there must be change in the price of commodity.</i></li>\n",
    "</ol>"
   ]
  },
  {
   "cell_type": "markdown",
   "metadata": {},
   "source": [
    "## Pre-Processing"
   ]
  },
  {
   "cell_type": "markdown",
   "metadata": {},
   "source": [
    "<b>1. Checking Missing values</b>"
   ]
  },
  {
   "cell_type": "code",
   "execution_count": 21,
   "metadata": {},
   "outputs": [
    {
     "data": {
      "text/plain": [
       "APMC               0\n",
       "Commodity          0\n",
       "Year               0\n",
       "Month              0\n",
       "arrivals_in_qtl    0\n",
       "min_price          0\n",
       "max_price          0\n",
       "modal_price        0\n",
       "date               0\n",
       "district_name      0\n",
       "state_name         0\n",
       "dtype: int64"
      ]
     },
     "execution_count": 21,
     "metadata": {},
     "output_type": "execute_result"
    }
   ],
   "source": [
    "## Missing values check\n",
    "df1.isnull().sum()"
   ]
  },
  {
   "cell_type": "markdown",
   "metadata": {},
   "source": [
    "<i>No missing values found in the dataset.<i>"
   ]
  },
  {
   "cell_type": "markdown",
   "metadata": {},
   "source": [
    "<b>2. Checking outliers</b>"
   ]
  },
  {
   "cell_type": "code",
   "execution_count": 22,
   "metadata": {},
   "outputs": [
    {
     "data": {
      "image/png": "[encoded data removed]",
      "text/plain": [
       "<Figure size 432x288 with 1 Axes>"
      ]
     },
     "metadata": {
      "needs_background": "light"
     },
     "output_type": "display_data"
    },
    {
     "data": {
      "image/png": "[encoded data removed]",
      "text/plain": [
       "<Figure size 432x288 with 1 Axes>"
      ]
     },
     "metadata": {
      "needs_background": "light"
     },
     "output_type": "display_data"
    },
    {
     "data": {
      "image/png": "[encoded data removed]",
      "text/plain": [
       "<Figure size 432x288 with 1 Axes>"
      ]
     },
     "metadata": {
      "needs_background": "light"
     },
     "output_type": "display_data"
    },
    {
     "data": {
      "image/png": "[encoded data removed]",
      "text/plain": [
       "<Figure size 432x288 with 1 Axes>"
      ]
     },
     "metadata": {
      "needs_background": "light"
     },
     "output_type": "display_data"
    }
   ],
   "source": [
    "## Outliers check\n",
    "for i in ['arrivals_in_qtl','min_price', 'max_price',\n",
    "       'modal_price']:\n",
    "    plt.title(i)\n",
    "    plt.boxplot(df1[i])\n",
    "    plt.show()  "
   ]
  },
  {
   "cell_type": "markdown",
   "metadata": {},
   "source": [
    "<i>There are outliers in all numeric columns.</i>"
   ]
  },
  {
   "cell_type": "code",
   "execution_count": 23,
   "metadata": {},
   "outputs": [],
   "source": [
    "## Handling outliers in arrivals_in_qtl\n",
    "q1 = np.percentile(df1['arrivals_in_qtl'],25,interpolation='midpoint')\n",
    "q3 = np.percentile(df1['arrivals_in_qtl'],75,interpolation='midpoint')\n",
    "\n",
    "IQR = q3-q1\n",
    "low_limit=q1-1.5*IQR\n",
    "high_limit=q3+1.5*IQR"
   ]
  },
  {
   "cell_type": "code",
   "execution_count": 24,
   "metadata": {},
   "outputs": [],
   "source": [
    "## Removing those outliers\n",
    "index=df1['arrivals_in_qtl'][(df1['arrivals_in_qtl']<low_limit)|(df1['arrivals_in_qtl']>high_limit)].index\n",
    "df1.drop(index,inplace=True)"
   ]
  },
  {
   "cell_type": "code",
   "execution_count": 25,
   "metadata": {},
   "outputs": [
    {
     "data": {
      "text/plain": [
       "52225"
      ]
     },
     "execution_count": 25,
     "metadata": {},
     "output_type": "execute_result"
    }
   ],
   "source": [
    "len(df1)"
   ]
  },
  {
   "cell_type": "code",
   "execution_count": 26,
   "metadata": {},
   "outputs": [],
   "source": [
    "## Handling outliers in min_price\n",
    "q1 = np.percentile(df1['min_price'],25,interpolation='midpoint')\n",
    "q3 = np.percentile(df1['min_price'],75,interpolation='midpoint')\n",
    "\n",
    "IQR = q3-q1\n",
    "low_limit=q1-1.5*IQR\n",
    "high_limit=q3+1.5*IQR\n",
    "\n",
    "## Removing outliers\n",
    "index=df1['min_price'][(df1['min_price']<low_limit)|(df1['min_price']>high_limit)].index\n",
    "df1.drop(index,inplace=True)"
   ]
  },
  {
   "cell_type": "code",
   "execution_count": 27,
   "metadata": {},
   "outputs": [
    {
     "data": {
      "text/plain": [
       "50493"
      ]
     },
     "execution_count": 27,
     "metadata": {},
     "output_type": "execute_result"
    }
   ],
   "source": [
    "len(df1)"
   ]
  },
  {
   "cell_type": "code",
   "execution_count": 28,
   "metadata": {},
   "outputs": [],
   "source": [
    "## Handling outliers in max_price\n",
    "q1 = np.percentile(df1['max_price'],25,interpolation='midpoint')\n",
    "q3 = np.percentile(df1['max_price'],75,interpolation='midpoint')\n",
    "\n",
    "IQR = q3-q1\n",
    "low_limit=q1-1.5*IQR\n",
    "high_limit=q3+1.5*IQR\n",
    "\n",
    "## Removing outliers\n",
    "index=df1['max_price'][(df1['max_price']<low_limit)|(df1['max_price']>high_limit)].index\n",
    "df1.drop(index,inplace=True)"
   ]
  },
  {
   "cell_type": "code",
   "execution_count": 29,
   "metadata": {},
   "outputs": [
    {
     "data": {
      "text/plain": [
       "49538"
      ]
     },
     "execution_count": 29,
     "metadata": {},
     "output_type": "execute_result"
    }
   ],
   "source": [
    "len(df1)"
   ]
  },
  {
   "cell_type": "code",
   "execution_count": 30,
   "metadata": {},
   "outputs": [],
   "source": [
    "## Handling outliers in modal_price\n",
    "q1 = np.percentile(df1['modal_price'],25,interpolation='midpoint')\n",
    "q3 = np.percentile(df1['modal_price'],75,interpolation='midpoint')\n",
    "\n",
    "IQR = q3-q1\n",
    "low_limit=q1-1.5*IQR\n",
    "high_limit=q3+1.5*IQR\n",
    "\n",
    "## Removing outliers\n",
    "index=df1['modal_price'][(df1['modal_price']<low_limit)|(df1['modal_price']>high_limit)].index\n",
    "df1.drop(index,inplace=True)"
   ]
  },
  {
   "cell_type": "code",
   "execution_count": 31,
   "metadata": {},
   "outputs": [
    {
     "data": {
      "text/plain": [
       "48822"
      ]
     },
     "execution_count": 31,
     "metadata": {},
     "output_type": "execute_result"
    }
   ],
   "source": [
    "len(df1)"
   ]
  },
  {
   "cell_type": "code",
   "execution_count": 32,
   "metadata": {},
   "outputs": [
    {
     "data": {
      "image/png": "[encoded data removed]",
      "text/plain": [
       "<Figure size 432x288 with 1 Axes>"
      ]
     },
     "metadata": {
      "needs_background": "light"
     },
     "output_type": "display_data"
    },
    {
     "data": {
      "image/png": "[encoded data removed]",
      "text/plain": [
       "<Figure size 432x288 with 1 Axes>"
      ]
     },
     "metadata": {
      "needs_background": "light"
     },
     "output_type": "display_data"
    },
    {
     "data": {
      "image/png": "[encoded data removed]",
      "text/plain": [
       "<Figure size 432x288 with 1 Axes>"
      ]
     },
     "metadata": {
      "needs_background": "light"
     },
     "output_type": "display_data"
    },
    {
     "data": {
      "image/png": "[encoded data removed]",
      "text/plain": [
       "<Figure size 432x288 with 1 Axes>"
      ]
     },
     "metadata": {
      "needs_background": "light"
     },
     "output_type": "display_data"
    }
   ],
   "source": [
    "## After removal of outliers\n",
    "for i in ['arrivals_in_qtl','min_price', 'max_price',\n",
    "       'modal_price']:\n",
    "    plt.title(i)\n",
    "    plt.boxplot(df1[i])\n",
    "    plt.show() "
   ]
  },
  {
   "cell_type": "markdown",
   "metadata": {},
   "source": [
    "<b>3. Datatype correction</b>"
   ]
  },
  {
   "cell_type": "code",
   "execution_count": 33,
   "metadata": {},
   "outputs": [
    {
     "data": {
      "text/plain": [
       "APMC               object\n",
       "Commodity          object\n",
       "Year                int64\n",
       "Month              object\n",
       "arrivals_in_qtl     int64\n",
       "min_price           int64\n",
       "max_price           int64\n",
       "modal_price         int64\n",
       "date               object\n",
       "district_name      object\n",
       "state_name         object\n",
       "dtype: object"
      ]
     },
     "execution_count": 33,
     "metadata": {},
     "output_type": "execute_result"
    }
   ],
   "source": [
    "df1.dtypes"
   ]
  },
  {
   "cell_type": "markdown",
   "metadata": {},
   "source": [
    "<i>Date is not in date type so it need to convert into date type.</i>"
   ]
  },
  {
   "cell_type": "code",
   "execution_count": 34,
   "metadata": {},
   "outputs": [],
   "source": [
    "## Converting to date type\n",
    "df1['date'] =  pd.to_datetime(df1['date'])"
   ]
  },
  {
   "cell_type": "code",
   "execution_count": 35,
   "metadata": {},
   "outputs": [
    {
     "data": {
      "text/plain": [
       "APMC                       object\n",
       "Commodity                  object\n",
       "Year                        int64\n",
       "Month                      object\n",
       "arrivals_in_qtl             int64\n",
       "min_price                   int64\n",
       "max_price                   int64\n",
       "modal_price                 int64\n",
       "date               datetime64[ns]\n",
       "district_name              object\n",
       "state_name                 object\n",
       "dtype: object"
      ]
     },
     "execution_count": 35,
     "metadata": {},
     "output_type": "execute_result"
    }
   ],
   "source": [
    "## Checking if the datatype change.\n",
    "df1.dtypes"
   ]
  },
  {
   "cell_type": "markdown",
   "metadata": {},
   "source": [
    "<b>4. Checking for duplicates</b>"
   ]
  },
  {
   "cell_type": "code",
   "execution_count": 36,
   "metadata": {},
   "outputs": [],
   "source": [
    "## Checking for duplcates \n",
    "duplicate = df1[df1.duplicated()]"
   ]
  },
  {
   "cell_type": "code",
   "execution_count": 37,
   "metadata": {},
   "outputs": [
    {
     "data": {
      "text/html": [
       "<div>\n",
       "<style scoped>\n",
       "    .dataframe tbody tr th:only-of-type {\n",
       "        vertical-align: middle;\n",
       "    }\n",
       "\n",
       "    .dataframe tbody tr th {\n",
       "        vertical-align: top;\n",
       "    }\n",
       "\n",
       "    .dataframe thead th {\n",
       "        text-align: right;\n",
       "    }\n",
       "</style>\n",
       "<table border=\"1\" class=\"dataframe\">\n",
       "  <thead>\n",
       "    <tr style=\"text-align: right;\">\n",
       "      <th></th>\n",
       "      <th>APMC</th>\n",
       "      <th>Commodity</th>\n",
       "      <th>Year</th>\n",
       "      <th>Month</th>\n",
       "      <th>arrivals_in_qtl</th>\n",
       "      <th>min_price</th>\n",
       "      <th>max_price</th>\n",
       "      <th>modal_price</th>\n",
       "      <th>date</th>\n",
       "      <th>district_name</th>\n",
       "      <th>state_name</th>\n",
       "    </tr>\n",
       "  </thead>\n",
       "  <tbody>\n",
       "  </tbody>\n",
       "</table>\n",
       "</div>"
      ],
      "text/plain": [
       "Empty DataFrame\n",
       "Columns: [APMC, Commodity, Year, Month, arrivals_in_qtl, min_price, max_price, modal_price, date, district_name, state_name]\n",
       "Index: []"
      ]
     },
     "execution_count": 37,
     "metadata": {},
     "output_type": "execute_result"
    }
   ],
   "source": [
    "duplicate.head()"
   ]
  },
  {
   "cell_type": "markdown",
   "metadata": {},
   "source": [
    "<i> No duplicate data in the dataset.</i>"
   ]
  },
  {
   "cell_type": "markdown",
   "metadata": {},
   "source": [
    "<b>5. Encoding<b>"
   ]
  },
  {
   "cell_type": "code",
   "execution_count": 38,
   "metadata": {},
   "outputs": [],
   "source": [
    "## One-hot encoding year column\n",
    "df2=pd.get_dummies(df1,columns=['Year'])"
   ]
  },
  {
   "cell_type": "code",
   "execution_count": 39,
   "metadata": {},
   "outputs": [
    {
     "data": {
      "text/html": [
       "<div>\n",
       "<style scoped>\n",
       "    .dataframe tbody tr th:only-of-type {\n",
       "        vertical-align: middle;\n",
       "    }\n",
       "\n",
       "    .dataframe tbody tr th {\n",
       "        vertical-align: top;\n",
       "    }\n",
       "\n",
       "    .dataframe thead th {\n",
       "        text-align: right;\n",
       "    }\n",
       "</style>\n",
       "<table border=\"1\" class=\"dataframe\">\n",
       "  <thead>\n",
       "    <tr style=\"text-align: right;\">\n",
       "      <th></th>\n",
       "      <th>APMC</th>\n",
       "      <th>Commodity</th>\n",
       "      <th>Month</th>\n",
       "      <th>arrivals_in_qtl</th>\n",
       "      <th>min_price</th>\n",
       "      <th>max_price</th>\n",
       "      <th>modal_price</th>\n",
       "      <th>date</th>\n",
       "      <th>district_name</th>\n",
       "      <th>state_name</th>\n",
       "      <th>Year_2014</th>\n",
       "      <th>Year_2015</th>\n",
       "      <th>Year_2016</th>\n",
       "    </tr>\n",
       "  </thead>\n",
       "  <tbody>\n",
       "    <tr>\n",
       "      <th>0</th>\n",
       "      <td>Ahmednagar</td>\n",
       "      <td>Bajri</td>\n",
       "      <td>April</td>\n",
       "      <td>79</td>\n",
       "      <td>1406</td>\n",
       "      <td>1538</td>\n",
       "      <td>1463</td>\n",
       "      <td>2015-04-01</td>\n",
       "      <td>Ahmadnagar</td>\n",
       "      <td>Maharashtra</td>\n",
       "      <td>0</td>\n",
       "      <td>1</td>\n",
       "      <td>0</td>\n",
       "    </tr>\n",
       "    <tr>\n",
       "      <th>1</th>\n",
       "      <td>Ahmednagar</td>\n",
       "      <td>Bajri</td>\n",
       "      <td>April</td>\n",
       "      <td>106</td>\n",
       "      <td>1788</td>\n",
       "      <td>1925</td>\n",
       "      <td>1875</td>\n",
       "      <td>2016-04-01</td>\n",
       "      <td>Ahmadnagar</td>\n",
       "      <td>Maharashtra</td>\n",
       "      <td>0</td>\n",
       "      <td>0</td>\n",
       "      <td>1</td>\n",
       "    </tr>\n",
       "    <tr>\n",
       "      <th>2</th>\n",
       "      <td>Ahmednagar</td>\n",
       "      <td>Wheat(Husked)</td>\n",
       "      <td>April</td>\n",
       "      <td>1253</td>\n",
       "      <td>1572</td>\n",
       "      <td>1890</td>\n",
       "      <td>1731</td>\n",
       "      <td>2015-04-01</td>\n",
       "      <td>Ahmadnagar</td>\n",
       "      <td>Maharashtra</td>\n",
       "      <td>0</td>\n",
       "      <td>1</td>\n",
       "      <td>0</td>\n",
       "    </tr>\n",
       "    <tr>\n",
       "      <th>3</th>\n",
       "      <td>Ahmednagar</td>\n",
       "      <td>Wheat(Husked)</td>\n",
       "      <td>April</td>\n",
       "      <td>387</td>\n",
       "      <td>1750</td>\n",
       "      <td>2220</td>\n",
       "      <td>1999</td>\n",
       "      <td>2016-04-01</td>\n",
       "      <td>Ahmadnagar</td>\n",
       "      <td>Maharashtra</td>\n",
       "      <td>0</td>\n",
       "      <td>0</td>\n",
       "      <td>1</td>\n",
       "    </tr>\n",
       "    <tr>\n",
       "      <th>5</th>\n",
       "      <td>Ahmednagar</td>\n",
       "      <td>Sorgum(Jawar)</td>\n",
       "      <td>April</td>\n",
       "      <td>2093</td>\n",
       "      <td>1695</td>\n",
       "      <td>2454</td>\n",
       "      <td>2119</td>\n",
       "      <td>2016-04-01</td>\n",
       "      <td>Ahmadnagar</td>\n",
       "      <td>Maharashtra</td>\n",
       "      <td>0</td>\n",
       "      <td>0</td>\n",
       "      <td>1</td>\n",
       "    </tr>\n",
       "  </tbody>\n",
       "</table>\n",
       "</div>"
      ],
      "text/plain": [
       "         APMC      Commodity  Month  arrivals_in_qtl  min_price  max_price  \\\n",
       "0  Ahmednagar          Bajri  April               79       1406       1538   \n",
       "1  Ahmednagar          Bajri  April              106       1788       1925   \n",
       "2  Ahmednagar  Wheat(Husked)  April             1253       1572       1890   \n",
       "3  Ahmednagar  Wheat(Husked)  April              387       1750       2220   \n",
       "5  Ahmednagar  Sorgum(Jawar)  April             2093       1695       2454   \n",
       "\n",
       "   modal_price       date district_name   state_name  Year_2014  Year_2015  \\\n",
       "0         1463 2015-04-01    Ahmadnagar  Maharashtra          0          1   \n",
       "1         1875 2016-04-01    Ahmadnagar  Maharashtra          0          0   \n",
       "2         1731 2015-04-01    Ahmadnagar  Maharashtra          0          1   \n",
       "3         1999 2016-04-01    Ahmadnagar  Maharashtra          0          0   \n",
       "5         2119 2016-04-01    Ahmadnagar  Maharashtra          0          0   \n",
       "\n",
       "   Year_2016  \n",
       "0          0  \n",
       "1          1  \n",
       "2          0  \n",
       "3          1  \n",
       "5          1  "
      ]
     },
     "execution_count": 39,
     "metadata": {},
     "output_type": "execute_result"
    }
   ],
   "source": [
    "df2.head()"
   ]
  },
  {
   "cell_type": "code",
   "execution_count": 40,
   "metadata": {},
   "outputs": [],
   "source": [
    "## Since there are lot of categories for APMC, Commodity and district name BaseN encoder is used\n",
    "import category_encoders as ce"
   ]
  },
  {
   "cell_type": "code",
   "execution_count": 41,
   "metadata": {},
   "outputs": [],
   "source": [
    "encoder= ce.BaseNEncoder(cols=['APMC','Commodity','district_name'],return_df=True,base=3)"
   ]
  },
  {
   "cell_type": "code",
   "execution_count": 42,
   "metadata": {},
   "outputs": [
    {
     "data": {
      "text/html": [
       "<div>\n",
       "<style scoped>\n",
       "    .dataframe tbody tr th:only-of-type {\n",
       "        vertical-align: middle;\n",
       "    }\n",
       "\n",
       "    .dataframe tbody tr th {\n",
       "        vertical-align: top;\n",
       "    }\n",
       "\n",
       "    .dataframe thead th {\n",
       "        text-align: right;\n",
       "    }\n",
       "</style>\n",
       "<table border=\"1\" class=\"dataframe\">\n",
       "  <thead>\n",
       "    <tr style=\"text-align: right;\">\n",
       "      <th></th>\n",
       "      <th>APMC</th>\n",
       "      <th>Commodity</th>\n",
       "      <th>Month</th>\n",
       "      <th>arrivals_in_qtl</th>\n",
       "      <th>min_price</th>\n",
       "      <th>max_price</th>\n",
       "      <th>modal_price</th>\n",
       "      <th>date</th>\n",
       "      <th>district_name</th>\n",
       "      <th>state_name</th>\n",
       "      <th>Year_2014</th>\n",
       "      <th>Year_2015</th>\n",
       "      <th>Year_2016</th>\n",
       "    </tr>\n",
       "  </thead>\n",
       "  <tbody>\n",
       "    <tr>\n",
       "      <th>0</th>\n",
       "      <td>Ahmednagar</td>\n",
       "      <td>Bajri</td>\n",
       "      <td>April</td>\n",
       "      <td>79</td>\n",
       "      <td>1406</td>\n",
       "      <td>1538</td>\n",
       "      <td>1463</td>\n",
       "      <td>2015-04-01</td>\n",
       "      <td>Ahmadnagar</td>\n",
       "      <td>Maharashtra</td>\n",
       "      <td>0</td>\n",
       "      <td>1</td>\n",
       "      <td>0</td>\n",
       "    </tr>\n",
       "    <tr>\n",
       "      <th>1</th>\n",
       "      <td>Ahmednagar</td>\n",
       "      <td>Bajri</td>\n",
       "      <td>April</td>\n",
       "      <td>106</td>\n",
       "      <td>1788</td>\n",
       "      <td>1925</td>\n",
       "      <td>1875</td>\n",
       "      <td>2016-04-01</td>\n",
       "      <td>Ahmadnagar</td>\n",
       "      <td>Maharashtra</td>\n",
       "      <td>0</td>\n",
       "      <td>0</td>\n",
       "      <td>1</td>\n",
       "    </tr>\n",
       "    <tr>\n",
       "      <th>2</th>\n",
       "      <td>Ahmednagar</td>\n",
       "      <td>Wheat(Husked)</td>\n",
       "      <td>April</td>\n",
       "      <td>1253</td>\n",
       "      <td>1572</td>\n",
       "      <td>1890</td>\n",
       "      <td>1731</td>\n",
       "      <td>2015-04-01</td>\n",
       "      <td>Ahmadnagar</td>\n",
       "      <td>Maharashtra</td>\n",
       "      <td>0</td>\n",
       "      <td>1</td>\n",
       "      <td>0</td>\n",
       "    </tr>\n",
       "    <tr>\n",
       "      <th>3</th>\n",
       "      <td>Ahmednagar</td>\n",
       "      <td>Wheat(Husked)</td>\n",
       "      <td>April</td>\n",
       "      <td>387</td>\n",
       "      <td>1750</td>\n",
       "      <td>2220</td>\n",
       "      <td>1999</td>\n",
       "      <td>2016-04-01</td>\n",
       "      <td>Ahmadnagar</td>\n",
       "      <td>Maharashtra</td>\n",
       "      <td>0</td>\n",
       "      <td>0</td>\n",
       "      <td>1</td>\n",
       "    </tr>\n",
       "    <tr>\n",
       "      <th>5</th>\n",
       "      <td>Ahmednagar</td>\n",
       "      <td>Sorgum(Jawar)</td>\n",
       "      <td>April</td>\n",
       "      <td>2093</td>\n",
       "      <td>1695</td>\n",
       "      <td>2454</td>\n",
       "      <td>2119</td>\n",
       "      <td>2016-04-01</td>\n",
       "      <td>Ahmadnagar</td>\n",
       "      <td>Maharashtra</td>\n",
       "      <td>0</td>\n",
       "      <td>0</td>\n",
       "      <td>1</td>\n",
       "    </tr>\n",
       "  </tbody>\n",
       "</table>\n",
       "</div>"
      ],
      "text/plain": [
       "         APMC      Commodity  Month  arrivals_in_qtl  min_price  max_price  \\\n",
       "0  Ahmednagar          Bajri  April               79       1406       1538   \n",
       "1  Ahmednagar          Bajri  April              106       1788       1925   \n",
       "2  Ahmednagar  Wheat(Husked)  April             1253       1572       1890   \n",
       "3  Ahmednagar  Wheat(Husked)  April              387       1750       2220   \n",
       "5  Ahmednagar  Sorgum(Jawar)  April             2093       1695       2454   \n",
       "\n",
       "   modal_price       date district_name   state_name  Year_2014  Year_2015  \\\n",
       "0         1463 2015-04-01    Ahmadnagar  Maharashtra          0          1   \n",
       "1         1875 2016-04-01    Ahmadnagar  Maharashtra          0          0   \n",
       "2         1731 2015-04-01    Ahmadnagar  Maharashtra          0          1   \n",
       "3         1999 2016-04-01    Ahmadnagar  Maharashtra          0          0   \n",
       "5         2119 2016-04-01    Ahmadnagar  Maharashtra          0          0   \n",
       "\n",
       "   Year_2016  \n",
       "0          0  \n",
       "1          1  \n",
       "2          0  \n",
       "3          1  \n",
       "5          1  "
      ]
     },
     "execution_count": 42,
     "metadata": {},
     "output_type": "execute_result"
    }
   ],
   "source": [
    "## Before encoding\n",
    "df2.head()"
   ]
  },
  {
   "cell_type": "code",
   "execution_count": 43,
   "metadata": {},
   "outputs": [],
   "source": [
    "## To see all the columns of the dataset\n",
    "pd.set_option('display.max_columns', None)"
   ]
  },
  {
   "cell_type": "code",
   "execution_count": 44,
   "metadata": {
    "scrolled": true
   },
   "outputs": [
    {
     "data": {
      "text/html": [
       "<div>\n",
       "<style scoped>\n",
       "    .dataframe tbody tr th:only-of-type {\n",
       "        vertical-align: middle;\n",
       "    }\n",
       "\n",
       "    .dataframe tbody tr th {\n",
       "        vertical-align: top;\n",
       "    }\n",
       "\n",
       "    .dataframe thead th {\n",
       "        text-align: right;\n",
       "    }\n",
       "</style>\n",
       "<table border=\"1\" class=\"dataframe\">\n",
       "  <thead>\n",
       "    <tr style=\"text-align: right;\">\n",
       "      <th></th>\n",
       "      <th>APMC_0</th>\n",
       "      <th>APMC_1</th>\n",
       "      <th>APMC_2</th>\n",
       "      <th>APMC_3</th>\n",
       "      <th>APMC_4</th>\n",
       "      <th>APMC_5</th>\n",
       "      <th>Commodity_0</th>\n",
       "      <th>Commodity_1</th>\n",
       "      <th>Commodity_2</th>\n",
       "      <th>Commodity_3</th>\n",
       "      <th>Commodity_4</th>\n",
       "      <th>Commodity_5</th>\n",
       "      <th>Month</th>\n",
       "      <th>arrivals_in_qtl</th>\n",
       "      <th>min_price</th>\n",
       "      <th>max_price</th>\n",
       "      <th>modal_price</th>\n",
       "      <th>date</th>\n",
       "      <th>district_name_0</th>\n",
       "      <th>district_name_1</th>\n",
       "      <th>district_name_2</th>\n",
       "      <th>district_name_3</th>\n",
       "      <th>state_name</th>\n",
       "      <th>Year_2014</th>\n",
       "      <th>Year_2015</th>\n",
       "      <th>Year_2016</th>\n",
       "    </tr>\n",
       "  </thead>\n",
       "  <tbody>\n",
       "    <tr>\n",
       "      <th>0</th>\n",
       "      <td>0</td>\n",
       "      <td>0</td>\n",
       "      <td>0</td>\n",
       "      <td>0</td>\n",
       "      <td>0</td>\n",
       "      <td>1</td>\n",
       "      <td>0</td>\n",
       "      <td>0</td>\n",
       "      <td>0</td>\n",
       "      <td>0</td>\n",
       "      <td>0</td>\n",
       "      <td>1</td>\n",
       "      <td>April</td>\n",
       "      <td>79</td>\n",
       "      <td>1406</td>\n",
       "      <td>1538</td>\n",
       "      <td>1463</td>\n",
       "      <td>2015-04-01</td>\n",
       "      <td>0</td>\n",
       "      <td>0</td>\n",
       "      <td>0</td>\n",
       "      <td>1</td>\n",
       "      <td>Maharashtra</td>\n",
       "      <td>0</td>\n",
       "      <td>1</td>\n",
       "      <td>0</td>\n",
       "    </tr>\n",
       "    <tr>\n",
       "      <th>1</th>\n",
       "      <td>0</td>\n",
       "      <td>0</td>\n",
       "      <td>0</td>\n",
       "      <td>0</td>\n",
       "      <td>0</td>\n",
       "      <td>1</td>\n",
       "      <td>0</td>\n",
       "      <td>0</td>\n",
       "      <td>0</td>\n",
       "      <td>0</td>\n",
       "      <td>0</td>\n",
       "      <td>1</td>\n",
       "      <td>April</td>\n",
       "      <td>106</td>\n",
       "      <td>1788</td>\n",
       "      <td>1925</td>\n",
       "      <td>1875</td>\n",
       "      <td>2016-04-01</td>\n",
       "      <td>0</td>\n",
       "      <td>0</td>\n",
       "      <td>0</td>\n",
       "      <td>1</td>\n",
       "      <td>Maharashtra</td>\n",
       "      <td>0</td>\n",
       "      <td>0</td>\n",
       "      <td>1</td>\n",
       "    </tr>\n",
       "    <tr>\n",
       "      <th>2</th>\n",
       "      <td>0</td>\n",
       "      <td>0</td>\n",
       "      <td>0</td>\n",
       "      <td>0</td>\n",
       "      <td>0</td>\n",
       "      <td>1</td>\n",
       "      <td>0</td>\n",
       "      <td>0</td>\n",
       "      <td>0</td>\n",
       "      <td>0</td>\n",
       "      <td>0</td>\n",
       "      <td>2</td>\n",
       "      <td>April</td>\n",
       "      <td>1253</td>\n",
       "      <td>1572</td>\n",
       "      <td>1890</td>\n",
       "      <td>1731</td>\n",
       "      <td>2015-04-01</td>\n",
       "      <td>0</td>\n",
       "      <td>0</td>\n",
       "      <td>0</td>\n",
       "      <td>1</td>\n",
       "      <td>Maharashtra</td>\n",
       "      <td>0</td>\n",
       "      <td>1</td>\n",
       "      <td>0</td>\n",
       "    </tr>\n",
       "    <tr>\n",
       "      <th>3</th>\n",
       "      <td>0</td>\n",
       "      <td>0</td>\n",
       "      <td>0</td>\n",
       "      <td>0</td>\n",
       "      <td>0</td>\n",
       "      <td>1</td>\n",
       "      <td>0</td>\n",
       "      <td>0</td>\n",
       "      <td>0</td>\n",
       "      <td>0</td>\n",
       "      <td>0</td>\n",
       "      <td>2</td>\n",
       "      <td>April</td>\n",
       "      <td>387</td>\n",
       "      <td>1750</td>\n",
       "      <td>2220</td>\n",
       "      <td>1999</td>\n",
       "      <td>2016-04-01</td>\n",
       "      <td>0</td>\n",
       "      <td>0</td>\n",
       "      <td>0</td>\n",
       "      <td>1</td>\n",
       "      <td>Maharashtra</td>\n",
       "      <td>0</td>\n",
       "      <td>0</td>\n",
       "      <td>1</td>\n",
       "    </tr>\n",
       "    <tr>\n",
       "      <th>5</th>\n",
       "      <td>0</td>\n",
       "      <td>0</td>\n",
       "      <td>0</td>\n",
       "      <td>0</td>\n",
       "      <td>0</td>\n",
       "      <td>1</td>\n",
       "      <td>0</td>\n",
       "      <td>0</td>\n",
       "      <td>0</td>\n",
       "      <td>0</td>\n",
       "      <td>1</td>\n",
       "      <td>0</td>\n",
       "      <td>April</td>\n",
       "      <td>2093</td>\n",
       "      <td>1695</td>\n",
       "      <td>2454</td>\n",
       "      <td>2119</td>\n",
       "      <td>2016-04-01</td>\n",
       "      <td>0</td>\n",
       "      <td>0</td>\n",
       "      <td>0</td>\n",
       "      <td>1</td>\n",
       "      <td>Maharashtra</td>\n",
       "      <td>0</td>\n",
       "      <td>0</td>\n",
       "      <td>1</td>\n",
       "    </tr>\n",
       "  </tbody>\n",
       "</table>\n",
       "</div>"
      ],
      "text/plain": [
       "   APMC_0  APMC_1  APMC_2  APMC_3  APMC_4  APMC_5  Commodity_0  Commodity_1  \\\n",
       "0       0       0       0       0       0       1            0            0   \n",
       "1       0       0       0       0       0       1            0            0   \n",
       "2       0       0       0       0       0       1            0            0   \n",
       "3       0       0       0       0       0       1            0            0   \n",
       "5       0       0       0       0       0       1            0            0   \n",
       "\n",
       "   Commodity_2  Commodity_3  Commodity_4  Commodity_5  Month  arrivals_in_qtl  \\\n",
       "0            0            0            0            1  April               79   \n",
       "1            0            0            0            1  April              106   \n",
       "2            0            0            0            2  April             1253   \n",
       "3            0            0            0            2  April              387   \n",
       "5            0            0            1            0  April             2093   \n",
       "\n",
       "   min_price  max_price  modal_price       date  district_name_0  \\\n",
       "0       1406       1538         1463 2015-04-01                0   \n",
       "1       1788       1925         1875 2016-04-01                0   \n",
       "2       1572       1890         1731 2015-04-01                0   \n",
       "3       1750       2220         1999 2016-04-01                0   \n",
       "5       1695       2454         2119 2016-04-01                0   \n",
       "\n",
       "   district_name_1  district_name_2  district_name_3   state_name  Year_2014  \\\n",
       "0                0                0                1  Maharashtra          0   \n",
       "1                0                0                1  Maharashtra          0   \n",
       "2                0                0                1  Maharashtra          0   \n",
       "3                0                0                1  Maharashtra          0   \n",
       "5                0                0                1  Maharashtra          0   \n",
       "\n",
       "   Year_2015  Year_2016  \n",
       "0          1          0  \n",
       "1          0          1  \n",
       "2          1          0  \n",
       "3          0          1  \n",
       "5          0          1  "
      ]
     },
     "execution_count": 44,
     "metadata": {},
     "output_type": "execute_result"
    }
   ],
   "source": [
    "#After encoding\n",
    "data_encoded=encoder.fit_transform(df2)\n",
    "data_encoded.head()"
   ]
  },
  {
   "cell_type": "code",
   "execution_count": 45,
   "metadata": {},
   "outputs": [],
   "source": [
    "## Droping unwanted column \n",
    "data_encoded=data_encoded.drop(['Month','state_name'],axis=1)"
   ]
  },
  {
   "cell_type": "code",
   "execution_count": 46,
   "metadata": {},
   "outputs": [
    {
     "data": {
      "text/plain": [
       "APMC_0                      int64\n",
       "APMC_1                      int64\n",
       "APMC_2                      int64\n",
       "APMC_3                      int64\n",
       "APMC_4                      int64\n",
       "APMC_5                      int64\n",
       "Commodity_0                 int64\n",
       "Commodity_1                 int64\n",
       "Commodity_2                 int64\n",
       "Commodity_3                 int64\n",
       "Commodity_4                 int64\n",
       "Commodity_5                 int64\n",
       "arrivals_in_qtl             int64\n",
       "min_price                   int64\n",
       "max_price                   int64\n",
       "modal_price                 int64\n",
       "date               datetime64[ns]\n",
       "district_name_0             int64\n",
       "district_name_1             int64\n",
       "district_name_2             int64\n",
       "district_name_3             int64\n",
       "Year_2014                   uint8\n",
       "Year_2015                   uint8\n",
       "Year_2016                   uint8\n",
       "dtype: object"
      ]
     },
     "execution_count": 46,
     "metadata": {},
     "output_type": "execute_result"
    }
   ],
   "source": [
    "## Data types of the current dataframe\n",
    "data_encoded.dtypes"
   ]
  },
  {
   "cell_type": "markdown",
   "metadata": {},
   "source": [
    "<b>6. Scaling</b>"
   ]
  },
  {
   "cell_type": "code",
   "execution_count": 47,
   "metadata": {},
   "outputs": [
    {
     "data": {
      "text/html": [
       "<div>\n",
       "<style scoped>\n",
       "    .dataframe tbody tr th:only-of-type {\n",
       "        vertical-align: middle;\n",
       "    }\n",
       "\n",
       "    .dataframe tbody tr th {\n",
       "        vertical-align: top;\n",
       "    }\n",
       "\n",
       "    .dataframe thead th {\n",
       "        text-align: right;\n",
       "    }\n",
       "</style>\n",
       "<table border=\"1\" class=\"dataframe\">\n",
       "  <thead>\n",
       "    <tr style=\"text-align: right;\">\n",
       "      <th></th>\n",
       "      <th>APMC_0</th>\n",
       "      <th>APMC_1</th>\n",
       "      <th>APMC_2</th>\n",
       "      <th>APMC_3</th>\n",
       "      <th>APMC_4</th>\n",
       "      <th>APMC_5</th>\n",
       "      <th>Commodity_0</th>\n",
       "      <th>Commodity_1</th>\n",
       "      <th>Commodity_2</th>\n",
       "      <th>Commodity_3</th>\n",
       "      <th>Commodity_4</th>\n",
       "      <th>Commodity_5</th>\n",
       "      <th>arrivals_in_qtl</th>\n",
       "      <th>min_price</th>\n",
       "      <th>max_price</th>\n",
       "      <th>modal_price</th>\n",
       "      <th>district_name_0</th>\n",
       "      <th>district_name_1</th>\n",
       "      <th>district_name_2</th>\n",
       "      <th>district_name_3</th>\n",
       "      <th>Year_2014</th>\n",
       "      <th>Year_2015</th>\n",
       "      <th>Year_2016</th>\n",
       "    </tr>\n",
       "  </thead>\n",
       "  <tbody>\n",
       "    <tr>\n",
       "      <th>count</th>\n",
       "      <td>48822.000000</td>\n",
       "      <td>48822.000000</td>\n",
       "      <td>48822.000000</td>\n",
       "      <td>48822.000000</td>\n",
       "      <td>48822.000000</td>\n",
       "      <td>48822.000000</td>\n",
       "      <td>48822.000000</td>\n",
       "      <td>48822.000000</td>\n",
       "      <td>48822.000000</td>\n",
       "      <td>48822.000000</td>\n",
       "      <td>48822.000000</td>\n",
       "      <td>48822.000000</td>\n",
       "      <td>48822.000000</td>\n",
       "      <td>48822.000000</td>\n",
       "      <td>48822.000000</td>\n",
       "      <td>48822.000000</td>\n",
       "      <td>48822.000000</td>\n",
       "      <td>48822.000000</td>\n",
       "      <td>48822.000000</td>\n",
       "      <td>48822.000000</td>\n",
       "      <td>48822.000000</td>\n",
       "      <td>48822.000000</td>\n",
       "      <td>48822.000000</td>\n",
       "    </tr>\n",
       "    <tr>\n",
       "      <th>mean</th>\n",
       "      <td>0.323584</td>\n",
       "      <td>0.661382</td>\n",
       "      <td>0.964811</td>\n",
       "      <td>0.809000</td>\n",
       "      <td>0.912724</td>\n",
       "      <td>0.957232</td>\n",
       "      <td>0.010385</td>\n",
       "      <td>0.169288</td>\n",
       "      <td>0.521179</td>\n",
       "      <td>0.616239</td>\n",
       "      <td>0.837778</td>\n",
       "      <td>1.127832</td>\n",
       "      <td>434.456925</td>\n",
       "      <td>2518.195916</td>\n",
       "      <td>3091.000922</td>\n",
       "      <td>2820.794969</td>\n",
       "      <td>0.219082</td>\n",
       "      <td>0.835771</td>\n",
       "      <td>0.897034</td>\n",
       "      <td>0.827926</td>\n",
       "      <td>0.130474</td>\n",
       "      <td>0.410614</td>\n",
       "      <td>0.458912</td>\n",
       "    </tr>\n",
       "    <tr>\n",
       "      <th>std</th>\n",
       "      <td>0.467848</td>\n",
       "      <td>0.826404</td>\n",
       "      <td>0.802609</td>\n",
       "      <td>0.789335</td>\n",
       "      <td>0.806117</td>\n",
       "      <td>0.779264</td>\n",
       "      <td>0.101376</td>\n",
       "      <td>0.471898</td>\n",
       "      <td>0.738271</td>\n",
       "      <td>0.762540</td>\n",
       "      <td>0.769271</td>\n",
       "      <td>0.834411</td>\n",
       "      <td>679.713121</td>\n",
       "      <td>1781.338440</td>\n",
       "      <td>1926.575827</td>\n",
       "      <td>1845.320987</td>\n",
       "      <td>0.413628</td>\n",
       "      <td>0.900435</td>\n",
       "      <td>0.795764</td>\n",
       "      <td>0.782291</td>\n",
       "      <td>0.336828</td>\n",
       "      <td>0.491950</td>\n",
       "      <td>0.498314</td>\n",
       "    </tr>\n",
       "    <tr>\n",
       "      <th>min</th>\n",
       "      <td>0.000000</td>\n",
       "      <td>0.000000</td>\n",
       "      <td>0.000000</td>\n",
       "      <td>0.000000</td>\n",
       "      <td>0.000000</td>\n",
       "      <td>0.000000</td>\n",
       "      <td>0.000000</td>\n",
       "      <td>0.000000</td>\n",
       "      <td>0.000000</td>\n",
       "      <td>0.000000</td>\n",
       "      <td>0.000000</td>\n",
       "      <td>0.000000</td>\n",
       "      <td>1.000000</td>\n",
       "      <td>0.000000</td>\n",
       "      <td>0.000000</td>\n",
       "      <td>0.000000</td>\n",
       "      <td>0.000000</td>\n",
       "      <td>0.000000</td>\n",
       "      <td>0.000000</td>\n",
       "      <td>0.000000</td>\n",
       "      <td>0.000000</td>\n",
       "      <td>0.000000</td>\n",
       "      <td>0.000000</td>\n",
       "    </tr>\n",
       "    <tr>\n",
       "      <th>25%</th>\n",
       "      <td>0.000000</td>\n",
       "      <td>0.000000</td>\n",
       "      <td>0.000000</td>\n",
       "      <td>0.000000</td>\n",
       "      <td>0.000000</td>\n",
       "      <td>0.000000</td>\n",
       "      <td>0.000000</td>\n",
       "      <td>0.000000</td>\n",
       "      <td>0.000000</td>\n",
       "      <td>0.000000</td>\n",
       "      <td>0.000000</td>\n",
       "      <td>0.000000</td>\n",
       "      <td>27.000000</td>\n",
       "      <td>1265.000000</td>\n",
       "      <td>1574.000000</td>\n",
       "      <td>1446.000000</td>\n",
       "      <td>0.000000</td>\n",
       "      <td>0.000000</td>\n",
       "      <td>0.000000</td>\n",
       "      <td>0.000000</td>\n",
       "      <td>0.000000</td>\n",
       "      <td>0.000000</td>\n",
       "      <td>0.000000</td>\n",
       "    </tr>\n",
       "    <tr>\n",
       "      <th>50%</th>\n",
       "      <td>0.000000</td>\n",
       "      <td>0.000000</td>\n",
       "      <td>1.000000</td>\n",
       "      <td>1.000000</td>\n",
       "      <td>1.000000</td>\n",
       "      <td>1.000000</td>\n",
       "      <td>0.000000</td>\n",
       "      <td>0.000000</td>\n",
       "      <td>0.000000</td>\n",
       "      <td>0.000000</td>\n",
       "      <td>1.000000</td>\n",
       "      <td>1.000000</td>\n",
       "      <td>126.000000</td>\n",
       "      <td>1820.000000</td>\n",
       "      <td>2571.000000</td>\n",
       "      <td>2223.000000</td>\n",
       "      <td>0.000000</td>\n",
       "      <td>0.000000</td>\n",
       "      <td>1.000000</td>\n",
       "      <td>1.000000</td>\n",
       "      <td>0.000000</td>\n",
       "      <td>0.000000</td>\n",
       "      <td>0.000000</td>\n",
       "    </tr>\n",
       "    <tr>\n",
       "      <th>75%</th>\n",
       "      <td>1.000000</td>\n",
       "      <td>1.000000</td>\n",
       "      <td>2.000000</td>\n",
       "      <td>1.000000</td>\n",
       "      <td>2.000000</td>\n",
       "      <td>2.000000</td>\n",
       "      <td>0.000000</td>\n",
       "      <td>0.000000</td>\n",
       "      <td>1.000000</td>\n",
       "      <td>1.000000</td>\n",
       "      <td>1.000000</td>\n",
       "      <td>2.000000</td>\n",
       "      <td>510.000000</td>\n",
       "      <td>3508.000000</td>\n",
       "      <td>4225.000000</td>\n",
       "      <td>3901.000000</td>\n",
       "      <td>0.000000</td>\n",
       "      <td>2.000000</td>\n",
       "      <td>2.000000</td>\n",
       "      <td>1.000000</td>\n",
       "      <td>0.000000</td>\n",
       "      <td>1.000000</td>\n",
       "      <td>1.000000</td>\n",
       "    </tr>\n",
       "    <tr>\n",
       "      <th>max</th>\n",
       "      <td>1.000000</td>\n",
       "      <td>2.000000</td>\n",
       "      <td>2.000000</td>\n",
       "      <td>2.000000</td>\n",
       "      <td>2.000000</td>\n",
       "      <td>2.000000</td>\n",
       "      <td>1.000000</td>\n",
       "      <td>2.000000</td>\n",
       "      <td>2.000000</td>\n",
       "      <td>2.000000</td>\n",
       "      <td>2.000000</td>\n",
       "      <td>2.000000</td>\n",
       "      <td>3353.000000</td>\n",
       "      <td>7892.000000</td>\n",
       "      <td>8760.000000</td>\n",
       "      <td>7825.000000</td>\n",
       "      <td>1.000000</td>\n",
       "      <td>2.000000</td>\n",
       "      <td>2.000000</td>\n",
       "      <td>2.000000</td>\n",
       "      <td>1.000000</td>\n",
       "      <td>1.000000</td>\n",
       "      <td>1.000000</td>\n",
       "    </tr>\n",
       "  </tbody>\n",
       "</table>\n",
       "</div>"
      ],
      "text/plain": [
       "             APMC_0        APMC_1        APMC_2        APMC_3        APMC_4  \\\n",
       "count  48822.000000  48822.000000  48822.000000  48822.000000  48822.000000   \n",
       "mean       0.323584      0.661382      0.964811      0.809000      0.912724   \n",
       "std        0.467848      0.826404      0.802609      0.789335      0.806117   \n",
       "min        0.000000      0.000000      0.000000      0.000000      0.000000   \n",
       "25%        0.000000      0.000000      0.000000      0.000000      0.000000   \n",
       "50%        0.000000      0.000000      1.000000      1.000000      1.000000   \n",
       "75%        1.000000      1.000000      2.000000      1.000000      2.000000   \n",
       "max        1.000000      2.000000      2.000000      2.000000      2.000000   \n",
       "\n",
       "             APMC_5   Commodity_0   Commodity_1   Commodity_2   Commodity_3  \\\n",
       "count  48822.000000  48822.000000  48822.000000  48822.000000  48822.000000   \n",
       "mean       0.957232      0.010385      0.169288      0.521179      0.616239   \n",
       "std        0.779264      0.101376      0.471898      0.738271      0.762540   \n",
       "min        0.000000      0.000000      0.000000      0.000000      0.000000   \n",
       "25%        0.000000      0.000000      0.000000      0.000000      0.000000   \n",
       "50%        1.000000      0.000000      0.000000      0.000000      0.000000   \n",
       "75%        2.000000      0.000000      0.000000      1.000000      1.000000   \n",
       "max        2.000000      1.000000      2.000000      2.000000      2.000000   \n",
       "\n",
       "        Commodity_4   Commodity_5  arrivals_in_qtl     min_price  \\\n",
       "count  48822.000000  48822.000000     48822.000000  48822.000000   \n",
       "mean       0.837778      1.127832       434.456925   2518.195916   \n",
       "std        0.769271      0.834411       679.713121   1781.338440   \n",
       "min        0.000000      0.000000         1.000000      0.000000   \n",
       "25%        0.000000      0.000000        27.000000   1265.000000   \n",
       "50%        1.000000      1.000000       126.000000   1820.000000   \n",
       "75%        1.000000      2.000000       510.000000   3508.000000   \n",
       "max        2.000000      2.000000      3353.000000   7892.000000   \n",
       "\n",
       "          max_price   modal_price  district_name_0  district_name_1  \\\n",
       "count  48822.000000  48822.000000     48822.000000     48822.000000   \n",
       "mean    3091.000922   2820.794969         0.219082         0.835771   \n",
       "std     1926.575827   1845.320987         0.413628         0.900435   \n",
       "min        0.000000      0.000000         0.000000         0.000000   \n",
       "25%     1574.000000   1446.000000         0.000000         0.000000   \n",
       "50%     2571.000000   2223.000000         0.000000         0.000000   \n",
       "75%     4225.000000   3901.000000         0.000000         2.000000   \n",
       "max     8760.000000   7825.000000         1.000000         2.000000   \n",
       "\n",
       "       district_name_2  district_name_3     Year_2014     Year_2015  \\\n",
       "count     48822.000000     48822.000000  48822.000000  48822.000000   \n",
       "mean          0.897034         0.827926      0.130474      0.410614   \n",
       "std           0.795764         0.782291      0.336828      0.491950   \n",
       "min           0.000000         0.000000      0.000000      0.000000   \n",
       "25%           0.000000         0.000000      0.000000      0.000000   \n",
       "50%           1.000000         1.000000      0.000000      0.000000   \n",
       "75%           2.000000         1.000000      0.000000      1.000000   \n",
       "max           2.000000         2.000000      1.000000      1.000000   \n",
       "\n",
       "          Year_2016  \n",
       "count  48822.000000  \n",
       "mean       0.458912  \n",
       "std        0.498314  \n",
       "min        0.000000  \n",
       "25%        0.000000  \n",
       "50%        0.000000  \n",
       "75%        1.000000  \n",
       "max        1.000000  "
      ]
     },
     "execution_count": 47,
     "metadata": {},
     "output_type": "execute_result"
    }
   ],
   "source": [
    "## Before scaling\n",
    "data_encoded.describe()"
   ]
  },
  {
   "cell_type": "code",
   "execution_count": 48,
   "metadata": {
    "scrolled": true
   },
   "outputs": [
    {
     "data": {
      "text/html": [
       "<div>\n",
       "<style scoped>\n",
       "    .dataframe tbody tr th:only-of-type {\n",
       "        vertical-align: middle;\n",
       "    }\n",
       "\n",
       "    .dataframe tbody tr th {\n",
       "        vertical-align: top;\n",
       "    }\n",
       "\n",
       "    .dataframe thead th {\n",
       "        text-align: right;\n",
       "    }\n",
       "</style>\n",
       "<table border=\"1\" class=\"dataframe\">\n",
       "  <thead>\n",
       "    <tr style=\"text-align: right;\">\n",
       "      <th></th>\n",
       "      <th>APMC_0</th>\n",
       "      <th>APMC_1</th>\n",
       "      <th>APMC_2</th>\n",
       "      <th>APMC_3</th>\n",
       "      <th>APMC_4</th>\n",
       "      <th>APMC_5</th>\n",
       "      <th>Commodity_0</th>\n",
       "      <th>Commodity_1</th>\n",
       "      <th>Commodity_2</th>\n",
       "      <th>Commodity_3</th>\n",
       "      <th>Commodity_4</th>\n",
       "      <th>Commodity_5</th>\n",
       "      <th>arrivals_in_qtl</th>\n",
       "      <th>min_price</th>\n",
       "      <th>max_price</th>\n",
       "      <th>modal_price</th>\n",
       "      <th>date</th>\n",
       "      <th>district_name_0</th>\n",
       "      <th>district_name_1</th>\n",
       "      <th>district_name_2</th>\n",
       "      <th>district_name_3</th>\n",
       "      <th>Year_2014</th>\n",
       "      <th>Year_2015</th>\n",
       "      <th>Year_2016</th>\n",
       "    </tr>\n",
       "  </thead>\n",
       "  <tbody>\n",
       "    <tr>\n",
       "      <th>0</th>\n",
       "      <td>0</td>\n",
       "      <td>0</td>\n",
       "      <td>0</td>\n",
       "      <td>0</td>\n",
       "      <td>0</td>\n",
       "      <td>1</td>\n",
       "      <td>0</td>\n",
       "      <td>0</td>\n",
       "      <td>0</td>\n",
       "      <td>0</td>\n",
       "      <td>0</td>\n",
       "      <td>1</td>\n",
       "      <td>0.023270</td>\n",
       "      <td>0.178155</td>\n",
       "      <td>0.175571</td>\n",
       "      <td>0.186965</td>\n",
       "      <td>2015-04-01</td>\n",
       "      <td>0</td>\n",
       "      <td>0</td>\n",
       "      <td>0</td>\n",
       "      <td>1</td>\n",
       "      <td>0</td>\n",
       "      <td>1</td>\n",
       "      <td>0</td>\n",
       "    </tr>\n",
       "    <tr>\n",
       "      <th>1</th>\n",
       "      <td>0</td>\n",
       "      <td>0</td>\n",
       "      <td>0</td>\n",
       "      <td>0</td>\n",
       "      <td>0</td>\n",
       "      <td>1</td>\n",
       "      <td>0</td>\n",
       "      <td>0</td>\n",
       "      <td>0</td>\n",
       "      <td>0</td>\n",
       "      <td>0</td>\n",
       "      <td>1</td>\n",
       "      <td>0.031325</td>\n",
       "      <td>0.226559</td>\n",
       "      <td>0.219749</td>\n",
       "      <td>0.239617</td>\n",
       "      <td>2016-04-01</td>\n",
       "      <td>0</td>\n",
       "      <td>0</td>\n",
       "      <td>0</td>\n",
       "      <td>1</td>\n",
       "      <td>0</td>\n",
       "      <td>0</td>\n",
       "      <td>1</td>\n",
       "    </tr>\n",
       "    <tr>\n",
       "      <th>2</th>\n",
       "      <td>0</td>\n",
       "      <td>0</td>\n",
       "      <td>0</td>\n",
       "      <td>0</td>\n",
       "      <td>0</td>\n",
       "      <td>1</td>\n",
       "      <td>0</td>\n",
       "      <td>0</td>\n",
       "      <td>0</td>\n",
       "      <td>0</td>\n",
       "      <td>0</td>\n",
       "      <td>2</td>\n",
       "      <td>0.373508</td>\n",
       "      <td>0.199189</td>\n",
       "      <td>0.215753</td>\n",
       "      <td>0.221214</td>\n",
       "      <td>2015-04-01</td>\n",
       "      <td>0</td>\n",
       "      <td>0</td>\n",
       "      <td>0</td>\n",
       "      <td>1</td>\n",
       "      <td>0</td>\n",
       "      <td>1</td>\n",
       "      <td>0</td>\n",
       "    </tr>\n",
       "    <tr>\n",
       "      <th>3</th>\n",
       "      <td>0</td>\n",
       "      <td>0</td>\n",
       "      <td>0</td>\n",
       "      <td>0</td>\n",
       "      <td>0</td>\n",
       "      <td>1</td>\n",
       "      <td>0</td>\n",
       "      <td>0</td>\n",
       "      <td>0</td>\n",
       "      <td>0</td>\n",
       "      <td>0</td>\n",
       "      <td>2</td>\n",
       "      <td>0.115155</td>\n",
       "      <td>0.221744</td>\n",
       "      <td>0.253425</td>\n",
       "      <td>0.255463</td>\n",
       "      <td>2016-04-01</td>\n",
       "      <td>0</td>\n",
       "      <td>0</td>\n",
       "      <td>0</td>\n",
       "      <td>1</td>\n",
       "      <td>0</td>\n",
       "      <td>0</td>\n",
       "      <td>1</td>\n",
       "    </tr>\n",
       "    <tr>\n",
       "      <th>5</th>\n",
       "      <td>0</td>\n",
       "      <td>0</td>\n",
       "      <td>0</td>\n",
       "      <td>0</td>\n",
       "      <td>0</td>\n",
       "      <td>1</td>\n",
       "      <td>0</td>\n",
       "      <td>0</td>\n",
       "      <td>0</td>\n",
       "      <td>0</td>\n",
       "      <td>1</td>\n",
       "      <td>0</td>\n",
       "      <td>0.624105</td>\n",
       "      <td>0.214774</td>\n",
       "      <td>0.280137</td>\n",
       "      <td>0.270799</td>\n",
       "      <td>2016-04-01</td>\n",
       "      <td>0</td>\n",
       "      <td>0</td>\n",
       "      <td>0</td>\n",
       "      <td>1</td>\n",
       "      <td>0</td>\n",
       "      <td>0</td>\n",
       "      <td>1</td>\n",
       "    </tr>\n",
       "  </tbody>\n",
       "</table>\n",
       "</div>"
      ],
      "text/plain": [
       "   APMC_0  APMC_1  APMC_2  APMC_3  APMC_4  APMC_5  Commodity_0  Commodity_1  \\\n",
       "0       0       0       0       0       0       1            0            0   \n",
       "1       0       0       0       0       0       1            0            0   \n",
       "2       0       0       0       0       0       1            0            0   \n",
       "3       0       0       0       0       0       1            0            0   \n",
       "5       0       0       0       0       0       1            0            0   \n",
       "\n",
       "   Commodity_2  Commodity_3  Commodity_4  Commodity_5  arrivals_in_qtl  \\\n",
       "0            0            0            0            1         0.023270   \n",
       "1            0            0            0            1         0.031325   \n",
       "2            0            0            0            2         0.373508   \n",
       "3            0            0            0            2         0.115155   \n",
       "5            0            0            1            0         0.624105   \n",
       "\n",
       "   min_price  max_price  modal_price       date  district_name_0  \\\n",
       "0   0.178155   0.175571     0.186965 2015-04-01                0   \n",
       "1   0.226559   0.219749     0.239617 2016-04-01                0   \n",
       "2   0.199189   0.215753     0.221214 2015-04-01                0   \n",
       "3   0.221744   0.253425     0.255463 2016-04-01                0   \n",
       "5   0.214774   0.280137     0.270799 2016-04-01                0   \n",
       "\n",
       "   district_name_1  district_name_2  district_name_3  Year_2014  Year_2015  \\\n",
       "0                0                0                1          0          1   \n",
       "1                0                0                1          0          0   \n",
       "2                0                0                1          0          1   \n",
       "3                0                0                1          0          0   \n",
       "5                0                0                1          0          0   \n",
       "\n",
       "   Year_2016  \n",
       "0          0  \n",
       "1          1  \n",
       "2          0  \n",
       "3          1  \n",
       "5          1  "
      ]
     },
     "execution_count": 48,
     "metadata": {},
     "output_type": "execute_result"
    }
   ],
   "source": [
    "## Min max scalar\n",
    "## Copy the data\n",
    "df_min_max_scaled = data_encoded.copy()\n",
    "columns=['arrivals_in_qtl','min_price','max_price','modal_price']\n",
    "## Apply normalization techniques\n",
    "for column in columns:\n",
    "    df_min_max_scaled[column] = (df_min_max_scaled[column] - df_min_max_scaled[column].min()) / (df_min_max_scaled[column].max() - df_min_max_scaled[column].min())    \n",
    "## View normalized data\n",
    "df_min_max_scaled.head()"
   ]
  },
  {
   "cell_type": "markdown",
   "metadata": {},
   "source": [
    "## Modelling"
   ]
  },
  {
   "cell_type": "code",
   "execution_count": 49,
   "metadata": {},
   "outputs": [],
   "source": [
    "## Assigning depended and independent variables\n",
    "x=df_min_max_scaled.drop(['modal_price','date'],axis=1)\n",
    "y=df_min_max_scaled['modal_price']"
   ]
  },
  {
   "cell_type": "code",
   "execution_count": 50,
   "metadata": {},
   "outputs": [],
   "source": [
    "## Splilting the dataset\n",
    "from sklearn.model_selection import train_test_split\n",
    "x_train,x_test,y_train,y_test=train_test_split(x,y,random_state=42,test_size=0.25)"
   ]
  },
  {
   "cell_type": "markdown",
   "metadata": {},
   "source": [
    "<b>1.LinearRegression</b>"
   ]
  },
  {
   "cell_type": "code",
   "execution_count": 51,
   "metadata": {},
   "outputs": [],
   "source": [
    "## Fitting the lr model\n",
    "from sklearn import linear_model\n",
    "lr=linear_model.LinearRegression()\n",
    "model=lr.fit(x_train,y_train)"
   ]
  },
  {
   "cell_type": "code",
   "execution_count": 52,
   "metadata": {},
   "outputs": [],
   "source": [
    "## Predicting the values\n",
    "y_pred=lr.predict(x_test)"
   ]
  },
  {
   "cell_type": "code",
   "execution_count": 53,
   "metadata": {},
   "outputs": [
    {
     "name": "stdout",
     "output_type": "stream",
     "text": [
      "MSE is:  0.0007190638690214208\n",
      "r squared: 0.9872817388926115\n"
     ]
    }
   ],
   "source": [
    "## Checking the MSE and r2_score\n",
    "from sklearn.metrics import mean_squared_error,r2_score\n",
    "print(\"MSE is: \",mean_squared_error(y_test,y_pred))\n",
    "print(\"r squared:\",r2_score(y_test,y_pred))"
   ]
  },
  {
   "cell_type": "code",
   "execution_count": 54,
   "metadata": {},
   "outputs": [],
   "source": [
    "temp=[]\n",
    "temp.append([\"Linear Regression\",round(mean_squared_error(y_test,y_pred),5),round(r2_score(y_test,y_pred),5)])"
   ]
  },
  {
   "cell_type": "code",
   "execution_count": 55,
   "metadata": {},
   "outputs": [
    {
     "data": {
      "text/plain": [
       "6775     0.178914\n",
       "10202    0.469521\n",
       "58181    0.570990\n",
       "8369     0.202939\n",
       "36694    0.203834\n",
       "Name: modal_price, dtype: float64"
      ]
     },
     "execution_count": 55,
     "metadata": {},
     "output_type": "execute_result"
    }
   ],
   "source": [
    "## Checking the y_test\n",
    "y_test[0:5]"
   ]
  },
  {
   "cell_type": "code",
   "execution_count": 56,
   "metadata": {},
   "outputs": [
    {
     "data": {
      "text/plain": [
       "array([0.17554806, 0.45950326, 0.56511326, 0.1997121 , 0.20814715])"
      ]
     },
     "execution_count": 56,
     "metadata": {},
     "output_type": "execute_result"
    }
   ],
   "source": [
    "## Checking the y_pred\n",
    "y_pred[0:5]"
   ]
  },
  {
   "cell_type": "markdown",
   "metadata": {},
   "source": [
    "<b>2. SVR</b>"
   ]
  },
  {
   "cell_type": "code",
   "execution_count": 57,
   "metadata": {},
   "outputs": [
    {
     "name": "stderr",
     "output_type": "stream",
     "text": [
      "C:\\ProgramData\\Anaconda3\\lib\\site-packages\\sklearn\\svm\\base.py:196: FutureWarning: The default value of gamma will change from 'auto' to 'scale' in version 0.22 to account better for unscaled features. Set gamma explicitly to 'auto' or 'scale' to avoid this warning.\n",
      "  \"avoid this warning.\", FutureWarning)\n"
     ]
    }
   ],
   "source": [
    "from sklearn.svm import SVR\n",
    "\n",
    "# Choose regression method and set hyperparameter\n",
    "svr_rbf=SVR(C=1.0, epsilon=0.2, kernel='rbf')\n",
    "\n",
    "# Training of the regression model\n",
    "svr_rbf.fit(x_train, y_train)\n",
    "y_pred = svr_rbf.predict(x_test)"
   ]
  },
  {
   "cell_type": "code",
   "execution_count": 58,
   "metadata": {},
   "outputs": [
    {
     "name": "stdout",
     "output_type": "stream",
     "text": [
      "MSE is:  0.008162786731045299\n",
      "r squared: 0.8556227652619436\n"
     ]
    }
   ],
   "source": [
    "print(\"MSE is: \",mean_squared_error(y_test,y_pred))\n",
    "print(\"r squared:\",r2_score(y_test,y_pred))"
   ]
  },
  {
   "cell_type": "code",
   "execution_count": 59,
   "metadata": {},
   "outputs": [],
   "source": [
    "temp.append([\"SVR\",round(mean_squared_error(y_test,y_pred),5),round(r2_score(y_test,y_pred),5)])"
   ]
  },
  {
   "cell_type": "markdown",
   "metadata": {},
   "source": [
    "<b>3. RandomForestRegressor</b>"
   ]
  },
  {
   "cell_type": "code",
   "execution_count": 60,
   "metadata": {},
   "outputs": [
    {
     "name": "stderr",
     "output_type": "stream",
     "text": [
      "C:\\ProgramData\\Anaconda3\\lib\\site-packages\\sklearn\\ensemble\\forest.py:246: FutureWarning: The default value of n_estimators will change from 10 in version 0.20 to 100 in 0.22.\n",
      "  \"10 in version 0.20 to 100 in 0.22.\", FutureWarning)\n"
     ]
    }
   ],
   "source": [
    "from sklearn.ensemble import RandomForestRegressor\n",
    "rm=RandomForestRegressor()\n",
    "rm.fit(x_train,y_train)\n",
    "\n",
    "y_pred=rm.predict(x_test)"
   ]
  },
  {
   "cell_type": "code",
   "execution_count": 61,
   "metadata": {},
   "outputs": [
    {
     "name": "stdout",
     "output_type": "stream",
     "text": [
      "MSE is:  0.0005405017990672621\n",
      "r squared: 0.9904400105391112\n"
     ]
    }
   ],
   "source": [
    "print(\"MSE is: \",mean_squared_error(y_test,y_pred))\n",
    "print(\"r squared:\",r2_score(y_test,y_pred))"
   ]
  },
  {
   "cell_type": "code",
   "execution_count": 62,
   "metadata": {},
   "outputs": [],
   "source": [
    "temp.append([\"RandomForestRegressor\",round(mean_squared_error(y_test,y_pred),5),round(r2_score(y_test,y_pred),5)])"
   ]
  },
  {
   "cell_type": "markdown",
   "metadata": {},
   "source": [
    "<b>4. DecisionTreeRegressor</b>"
   ]
  },
  {
   "cell_type": "code",
   "execution_count": 63,
   "metadata": {},
   "outputs": [],
   "source": [
    "from sklearn.tree import DecisionTreeRegressor\n",
    "\n",
    "# Build decision tree\n",
    "tree=DecisionTreeRegressor()\n",
    "tree.fit(x_train,y_train)\n",
    "y_pred=tree.predict(x_test)"
   ]
  },
  {
   "cell_type": "code",
   "execution_count": 64,
   "metadata": {},
   "outputs": [
    {
     "name": "stdout",
     "output_type": "stream",
     "text": [
      "MSE is:  0.0009083479862614988\n",
      "r squared: 0.9839338237347868\n"
     ]
    }
   ],
   "source": [
    "print(\"MSE is: \",mean_squared_error(y_test,y_pred))\n",
    "print(\"r squared:\",r2_score(y_test,y_pred))"
   ]
  },
  {
   "cell_type": "code",
   "execution_count": 65,
   "metadata": {},
   "outputs": [],
   "source": [
    "temp.append([\"DecisionTreeRegressor\",round(mean_squared_error(y_test,y_pred),5),round(r2_score(y_test,y_pred),5)])"
   ]
  },
  {
   "cell_type": "code",
   "execution_count": 66,
   "metadata": {},
   "outputs": [],
   "source": [
    "df8 = pd.DataFrame(temp, columns = ['Algorithms', 'MSE','r2_score'])"
   ]
  },
  {
   "cell_type": "code",
   "execution_count": 67,
   "metadata": {},
   "outputs": [
    {
     "data": {
      "text/html": [
       "<div>\n",
       "<style scoped>\n",
       "    .dataframe tbody tr th:only-of-type {\n",
       "        vertical-align: middle;\n",
       "    }\n",
       "\n",
       "    .dataframe tbody tr th {\n",
       "        vertical-align: top;\n",
       "    }\n",
       "\n",
       "    .dataframe thead th {\n",
       "        text-align: right;\n",
       "    }\n",
       "</style>\n",
       "<table border=\"1\" class=\"dataframe\">\n",
       "  <thead>\n",
       "    <tr style=\"text-align: right;\">\n",
       "      <th></th>\n",
       "      <th>Algorithms</th>\n",
       "      <th>MSE</th>\n",
       "      <th>r2_score</th>\n",
       "    </tr>\n",
       "  </thead>\n",
       "  <tbody>\n",
       "    <tr>\n",
       "      <th>2</th>\n",
       "      <td>RandomForestRegressor</td>\n",
       "      <td>0.00054</td>\n",
       "      <td>0.99044</td>\n",
       "    </tr>\n",
       "    <tr>\n",
       "      <th>0</th>\n",
       "      <td>Linear Regression</td>\n",
       "      <td>0.00072</td>\n",
       "      <td>0.98728</td>\n",
       "    </tr>\n",
       "    <tr>\n",
       "      <th>3</th>\n",
       "      <td>DecisionTreeRegressor</td>\n",
       "      <td>0.00091</td>\n",
       "      <td>0.98393</td>\n",
       "    </tr>\n",
       "    <tr>\n",
       "      <th>1</th>\n",
       "      <td>SVR</td>\n",
       "      <td>0.00816</td>\n",
       "      <td>0.85562</td>\n",
       "    </tr>\n",
       "  </tbody>\n",
       "</table>\n",
       "</div>"
      ],
      "text/plain": [
       "              Algorithms      MSE  r2_score\n",
       "2  RandomForestRegressor  0.00054   0.99044\n",
       "0      Linear Regression  0.00072   0.98728\n",
       "3  DecisionTreeRegressor  0.00091   0.98393\n",
       "1                    SVR  0.00816   0.85562"
      ]
     },
     "execution_count": 67,
     "metadata": {},
     "output_type": "execute_result"
    }
   ],
   "source": [
    "df8.sort_values(by=['MSE','r2_score'])"
   ]
  },
  {
   "cell_type": "markdown",
   "metadata": {},
   "source": [
    "<i>From above RandomForestRegressor has lowest MSE and highest r2_score. So it is the best algorithm for this problem.</i>"
   ]
  },
  {
   "cell_type": "markdown",
   "metadata": {},
   "source": [
    "## Model Fine Tuning"
   ]
  },
  {
   "cell_type": "code",
   "execution_count": 68,
   "metadata": {},
   "outputs": [],
   "source": [
    "## Using gridsearch to find the best parameters\n",
    "from sklearn.model_selection import GridSearchCV\n",
    "\n",
    "param_grid = {  'bootstrap': [True,False], 'max_features': ['auto', 'log2','sqrt'], 'n_estimators': [100,150]}"
   ]
  },
  {
   "cell_type": "code",
   "execution_count": 69,
   "metadata": {},
   "outputs": [],
   "source": [
    "g_search = GridSearchCV(estimator = rm, param_grid = param_grid,cv = 3, n_jobs = 1, verbose = 0, return_train_score=True)"
   ]
  },
  {
   "cell_type": "code",
   "execution_count": 70,
   "metadata": {},
   "outputs": [
    {
     "name": "stdout",
     "output_type": "stream",
     "text": [
      "{'bootstrap': True, 'max_features': 'auto', 'n_estimators': 150}\n"
     ]
    }
   ],
   "source": [
    "## Fitting and printing the best parameters\n",
    "g_search.fit(x_train, y_train);\n",
    "print(g_search.best_params_)"
   ]
  },
  {
   "cell_type": "markdown",
   "metadata": {},
   "source": [
    "<i>Applying these features to check if there is an increase.</i>"
   ]
  },
  {
   "cell_type": "code",
   "execution_count": 71,
   "metadata": {},
   "outputs": [],
   "source": [
    "rm=RandomForestRegressor(bootstrap=True, max_features='auto',n_estimators=150)\n",
    "rm.fit(x_train,y_train)\n",
    "\n",
    "y_pred=rm.predict(x_test)"
   ]
  },
  {
   "cell_type": "code",
   "execution_count": 72,
   "metadata": {},
   "outputs": [
    {
     "name": "stdout",
     "output_type": "stream",
     "text": [
      "MSE is:  0.0005083597191389595\n",
      "r squared: 0.991008515483768\n"
     ]
    }
   ],
   "source": [
    "## slight improvement\n",
    "print(\"MSE is: \",mean_squared_error(y_test,y_pred))\n",
    "print(\"r squared:\",r2_score(y_test,y_pred))"
   ]
  },
  {
   "cell_type": "markdown",
   "metadata": {},
   "source": [
    "<i> MSE value is decreased and r2_score value has increased.</i>"
   ]
  },
  {
   "cell_type": "code",
   "execution_count": null,
   "metadata": {},
   "outputs": [],
   "source": []
  }
 ],
 "metadata": {
  "kernelspec": {
   "display_name": "Python 3",
   "language": "python",
   "name": "python3"
  },
  "language_info": {
   "codemirror_mode": {
    "name": "ipython",
    "version": 3
   },
   "file_extension": ".py",
   "mimetype": "text/x-python",
   "name": "python",
   "nbconvert_exporter": "python",
   "pygments_lexer": "ipython3",
   "version": "3.7.3"
  }
 },
 "nbformat": 4,
 "nbformat_minor": 2
}
